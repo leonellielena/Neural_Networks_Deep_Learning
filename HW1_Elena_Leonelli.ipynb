{
  "cells": [
    {
      "cell_type": "markdown",
      "metadata": {
        "id": "zYncZVOyF8Rb"
      },
      "source": [
        "#NEURAL NETWORKS AND DEEP LEARNING\n",
        "# Homework 1\n",
        "---\n",
        "Elena Leonelli - mat.2028635 - M.Sc. Physics of data"
      ]
    },
    {
      "cell_type": "code",
      "execution_count": null,
      "metadata": {
        "id": "3ViQh-gfzxNH"
      },
      "outputs": [],
      "source": [
        "import pandas as pd\n",
        "import matplotlib.pyplot as plt\n",
        "import numpy as np\n",
        "import random\n",
        "\n",
        "import torch\n",
        "import torch.nn as nn\n",
        "import torch.optim as optim\n",
        "from torch.utils.data import Dataset, DataLoader, SubsetRandomSampler\n",
        "import torchvision\n",
        "from torchvision import transforms\n",
        "\n",
        "from sklearn.model_selection import KFold, ParameterGrid, train_test_split, RandomizedSearchCV\n",
        "from sklearn.metrics import accuracy_score, confusion_matrix, ConfusionMatrixDisplay\n",
        "\n",
        "from tqdm import tqdm"
      ]
    },
    {
      "cell_type": "code",
      "execution_count": null,
      "metadata": {
        "colab": {
          "base_uri": "https://localhost:8080/"
        },
        "id": "1RBrefHx6W-d",
        "outputId": "3abf38b3-d647-4e14-928b-9130a0bf3bfe"
      },
      "outputs": [
        {
          "output_type": "stream",
          "name": "stdout",
          "text": [
            "Looking in indexes: https://pypi.org/simple, https://us-python.pkg.dev/colab-wheels/public/simple/\n",
            "Collecting skorch\n",
            "  Downloading skorch-0.11.0-py3-none-any.whl (155 kB)\n",
            "\u001b[K     |████████████████████████████████| 155 kB 6.6 MB/s \n",
            "\u001b[?25hRequirement already satisfied: tabulate>=0.7.7 in /usr/local/lib/python3.7/dist-packages (from skorch) (0.8.9)\n",
            "Requirement already satisfied: scipy>=1.1.0 in /usr/local/lib/python3.7/dist-packages (from skorch) (1.4.1)\n",
            "Requirement already satisfied: numpy>=1.13.3 in /usr/local/lib/python3.7/dist-packages (from skorch) (1.21.6)\n",
            "Requirement already satisfied: tqdm>=4.14.0 in /usr/local/lib/python3.7/dist-packages (from skorch) (4.64.0)\n",
            "Requirement already satisfied: scikit-learn>=0.19.1 in /usr/local/lib/python3.7/dist-packages (from skorch) (1.0.2)\n",
            "Requirement already satisfied: threadpoolctl>=2.0.0 in /usr/local/lib/python3.7/dist-packages (from scikit-learn>=0.19.1->skorch) (3.1.0)\n",
            "Requirement already satisfied: joblib>=0.11 in /usr/local/lib/python3.7/dist-packages (from scikit-learn>=0.19.1->skorch) (1.1.0)\n",
            "Installing collected packages: skorch\n",
            "Successfully installed skorch-0.11.0\n"
          ]
        }
      ],
      "source": [
        "! pip install skorch\n",
        "import skorch\n",
        "from skorch import NeuralNetClassifier, NeuralNetRegressor"
      ]
    },
    {
      "cell_type": "markdown",
      "metadata": {
        "id": "rZCClsi8vrYi"
      },
      "source": [
        "# Regression task\n",
        "\n",
        "The goal is to train a neural network to approximate an unknown function\n",
        "$$ \n",
        "f:\\mathbb{R}→\\mathbb{R} \\\\\n",
        "x↦y=f(x) \\\\\n",
        "\\text{network}(x) \\approx f(x)\n",
        "$$\n",
        "\n",
        "\n",
        "The training set consists in noisy measures from the target function:\n",
        "$\n",
        "\\hat{y} = f(x) + noise.\n",
        "$\n",
        "\n",
        "In this section, I start defining a fully-connected neural network. Then I perform a preliminary training and testing.\n",
        "In section \"Grid Search\" I sdefine a function that performs a randomized search with crossvalidation. With this function I find the best parameters, and I train again the network to obtain the best performance. The final test loss reached is 0.1.\n",
        "\n",
        "Eventually, I analyze the network plotting activation profiles and weight histograms."
      ]
    },
    {
      "cell_type": "markdown",
      "metadata": {
        "id": "JpHoPt5nyocz"
      },
      "source": [
        "## Dataset"
      ]
    },
    {
      "cell_type": "markdown",
      "metadata": {
        "id": "OjV_JeRcwrLC"
      },
      "source": [
        "The following cell of code will download the dataset. Each row contains two values, respactively the input and the label."
      ]
    },
    {
      "cell_type": "code",
      "execution_count": null,
      "metadata": {
        "colab": {
          "base_uri": "https://localhost:8080/"
        },
        "id": "QXCqDgEsvt96",
        "outputId": "688d2649-e510-4278-eab9-45b63d022364"
      },
      "outputs": [
        {
          "output_type": "stream",
          "name": "stdout",
          "text": [
            "--2022-07-08 12:53:17--  https://gitlab.dei.unipd.it/michieli/nnld-2021-22-lab-resources/-/raw/main/homework1/train_data.csv\n",
            "Resolving gitlab.dei.unipd.it (gitlab.dei.unipd.it)... 147.162.2.85\n",
            "Connecting to gitlab.dei.unipd.it (gitlab.dei.unipd.it)|147.162.2.85|:443... connected.\n",
            "HTTP request sent, awaiting response... 200 OK\n",
            "Length: 3776 (3.7K) [text/plain]\n",
            "Saving to: ‘regression_dataset/train_data.csv’\n",
            "\n",
            "train_data.csv      100%[===================>]   3.69K  --.-KB/s    in 0s      \n",
            "\n",
            "2022-07-08 12:53:18 (49.6 MB/s) - ‘regression_dataset/train_data.csv’ saved [3776/3776]\n",
            "\n",
            "--2022-07-08 12:53:18--  https://gitlab.dei.unipd.it/michieli/nnld-2021-22-lab-resources/-/raw/main/homework1/test_data.csv\n",
            "Resolving gitlab.dei.unipd.it (gitlab.dei.unipd.it)... 147.162.2.85\n",
            "Connecting to gitlab.dei.unipd.it (gitlab.dei.unipd.it)|147.162.2.85|:443... connected.\n",
            "HTTP request sent, awaiting response... 200 OK\n",
            "Length: 3788 (3.7K) [text/plain]\n",
            "Saving to: ‘regression_dataset/test_data.csv’\n",
            "\n",
            "test_data.csv       100%[===================>]   3.70K  --.-KB/s    in 0s      \n",
            "\n",
            "2022-07-08 12:53:19 (41.2 MB/s) - ‘regression_dataset/test_data.csv’ saved [3788/3788]\n",
            "\n"
          ]
        }
      ],
      "source": [
        "!wget -P regression_dataset https://gitlab.dei.unipd.it/michieli/nnld-2021-22-lab-resources/-/raw/main/homework1/train_data.csv\n",
        "!wget -P regression_dataset https://gitlab.dei.unipd.it/michieli/nnld-2021-22-lab-resources/-/raw/main/homework1/test_data.csv "
      ]
    },
    {
      "cell_type": "code",
      "execution_count": null,
      "metadata": {
        "id": "a-FdEP-JxwEu"
      },
      "outputs": [],
      "source": [
        "#LOADING DATA\n",
        "\n",
        "train_df = pd.read_csv('regression_dataset/train_data.csv')\n",
        "test_df = pd.read_csv('regression_dataset/test_data.csv')"
      ]
    },
    {
      "cell_type": "code",
      "execution_count": null,
      "metadata": {
        "colab": {
          "base_uri": "https://localhost:8080/",
          "height": 388
        },
        "id": "EXc_6w24zFEB",
        "outputId": "f869d60c-afa1-41fd-a4d0-ddfc4fd03c29"
      },
      "outputs": [
        {
          "output_type": "display_data",
          "data": {
            "text/plain": [
              "<Figure size 576x432 with 1 Axes>"
            ],
            "image/png": "[encoded data removed]"
          },
          "metadata": {
            "needs_background": "light"
          }
        }
      ],
      "source": [
        "#TRAINING POINTS VISUALIZATION\n",
        "\n",
        "fig = plt.figure(figsize=(8,6))\n",
        "plt.scatter(train_df.input, train_df.label,s=18, label='Training points', color='#428bca')\n",
        "plt.xlabel('input')\n",
        "plt.ylabel('label')\n",
        "plt.grid()\n",
        "plt.legend()\n",
        "plt.show()"
      ]
    },
    {
      "cell_type": "markdown",
      "metadata": {
        "id": "fISP_R7Tthu6"
      },
      "source": [
        "### Datasets loading: from csv to Tensor"
      ]
    },
    {
      "cell_type": "code",
      "execution_count": null,
      "metadata": {
        "id": "85I9VAhkBeFR"
      },
      "outputs": [],
      "source": [
        "class CsvDataset(Dataset):\n",
        "\n",
        "    def __init__(self, csv_file, transform=None):\n",
        "        # Creating a tuple (input,label)\n",
        "        self.transform = transform\n",
        "        data_df=pd.read_csv(csv_file)\n",
        "\n",
        "        self.data=[tuple(r) for r in data_df.to_numpy()]\n",
        "        \n",
        "    def __len__(self):\n",
        "        # The length of the dataset is simply the length of the self.data list\n",
        "        return len(self.data)\n",
        "\n",
        "    def __getitem__(self, idx):\n",
        "        # Our sample is the element idx of the list self.data\n",
        "        sample = self.data[idx]\n",
        "        if self.transform:\n",
        "            sample = self.transform(sample)\n",
        "        return sample"
      ]
    },
    {
      "cell_type": "code",
      "execution_count": null,
      "metadata": {
        "id": "PcooKuGkqbHV"
      },
      "outputs": [],
      "source": [
        "class ToTensor(object):\n",
        "    # Convert sample to Tensors\n",
        "\n",
        "    def __call__(self, sample):\n",
        "        x, y = sample\n",
        "        return (torch.tensor([x]).float(),\n",
        "                torch.tensor([y]).float())"
      ]
    },
    {
      "cell_type": "code",
      "execution_count": null,
      "metadata": {
        "id": "YR0tHxEsqbEZ"
      },
      "outputs": [],
      "source": [
        "composed_transform = transforms.Compose([ToTensor()])\n",
        "\n",
        "train_dataset = CsvDataset('regression_dataset/train_data.csv', transform=composed_transform)\n",
        "test_dataset = CsvDataset('regression_dataset/test_data.csv', transform=composed_transform)"
      ]
    },
    {
      "cell_type": "markdown",
      "metadata": {
        "id": "tGAY8FVxxGTH"
      },
      "source": [
        "## The Model"
      ]
    },
    {
      "cell_type": "code",
      "execution_count": null,
      "metadata": {
        "id": "zw3UD46pQqZw"
      },
      "outputs": [],
      "source": [
        "class Net(nn.Module):\n",
        "    \n",
        "    def __init__(self, Nh1, Nh2, activ, p_drop=0, Ni=1, No=1):\n",
        "\n",
        "        super().__init__()\n",
        "\n",
        "        self.fc1 = nn.Linear(in_features=Ni, out_features=Nh1)\n",
        "        self.fc2 = nn.Linear(in_features=Nh1, out_features=Nh2)\n",
        "        self.out = nn.Linear(in_features=Nh2, out_features=No)\n",
        "        self.act = activ\n",
        "        self.dropout = nn.Dropout(p_drop)\n",
        "        \n",
        "    def forward(self, x):\n",
        "        x = self.act(self.fc1(x))\n",
        "        x = self.dropout(x)\n",
        "        x = self.act(self.fc2(x))\n",
        "        x = self.dropout(x)\n",
        "        x = self.out(x)\n",
        "        return x"
      ]
    },
    {
      "cell_type": "code",
      "execution_count": null,
      "metadata": {
        "colab": {
          "base_uri": "https://localhost:8080/"
        },
        "id": "ungkTKz2Qqcp",
        "outputId": "29030c53-8ee4-4811-e628-2c0b8209cae6"
      },
      "outputs": [
        {
          "output_type": "stream",
          "name": "stdout",
          "text": [
            "Training device: cpu\n"
          ]
        }
      ],
      "source": [
        "# Check if the GPU is available\n",
        "device = torch.device(\"cuda\") if torch.cuda.is_available() else torch.device(\"cpu\")\n",
        "print(f\"Training device: {device}\")"
      ]
    },
    {
      "cell_type": "code",
      "execution_count": null,
      "metadata": {
        "colab": {
          "base_uri": "https://localhost:8080/"
        },
        "id": "AuWkaxG3OUFV",
        "outputId": "957f40b1-a0d8-4a46-c516-6406249f9461"
      },
      "outputs": [
        {
          "data": {
            "text/plain": [
              "Net(\n",
              "  (fc1): Linear(in_features=1, out_features=64, bias=True)\n",
              "  (fc2): Linear(in_features=64, out_features=128, bias=True)\n",
              "  (out): Linear(in_features=128, out_features=1, bias=True)\n",
              "  (act): ReLU()\n",
              "  (dropout): Dropout(p=0, inplace=False)\n",
              ")"
            ]
          },
          "execution_count": 21,
          "metadata": {},
          "output_type": "execute_result"
        }
      ],
      "source": [
        "# Initialize the network\n",
        "torch.manual_seed(60)\n",
        "\n",
        "Nh1 = 64\n",
        "Nh2 = 128\n",
        "\n",
        "net = Net(Nh1, Nh2, nn.ReLU())\n",
        "net.to(device)"
      ]
    },
    {
      "cell_type": "markdown",
      "metadata": {
        "id": "DjdhTWtSXR-6"
      },
      "source": [
        "## Training"
      ]
    },
    {
      "cell_type": "code",
      "execution_count": null,
      "metadata": {
        "colab": {
          "base_uri": "https://localhost:8080/"
        },
        "id": "_aDj830eYbaV",
        "outputId": "6592a844-204a-4971-a765-ab60eff015ba"
      },
      "outputs": [
        {
          "output_type": "stream",
          "name": "stdout",
          "text": [
            "Elements in Train set: 80\n",
            "Elements in Validation set: 20\n",
            "Elements in Test set: 100\n"
          ]
        }
      ],
      "source": [
        "# Divide in training (80%) an validation (20%) dataset\n",
        "\n",
        "p = 0.8\n",
        "n_train = int(len(train_dataset)*p) \n",
        "n_valid = len(train_dataset) - n_train\n",
        "\n",
        "print(\"Elements in Train set:\",      n_train)\n",
        "print(\"Elements in Validation set:\", n_valid)\n",
        "print(\"Elements in Test set:\",       len(test_dataset) )\n",
        "\n",
        "# Prepare Training and Validation sets\n",
        "train_dataset_v, validation_dataset_v = torch.utils.data.random_split(train_dataset, [n_train, n_valid])"
      ]
    },
    {
      "cell_type": "code",
      "execution_count": null,
      "metadata": {
        "colab": {
          "base_uri": "https://localhost:8080/"
        },
        "id": "Rr5CULQXcSXG",
        "outputId": "ab4a23ad-fb33-4ea3-ac7e-e76d9ce49eea"
      },
      "outputs": [
        {
          "output_type": "stream",
          "name": "stdout",
          "text": [
            "TRAIN BATCH SHAPE\n",
            "\t Data: torch.Size([10, 1])\n",
            "\t Labels: torch.Size([10, 1])\n",
            "TRAIN BATCH SHAPE\n",
            "\t Data: torch.Size([10, 1])\n",
            "\t Labels: torch.Size([10, 1])\n",
            "TEST BATCH SHAPE\n",
            "\t Data: torch.Size([10, 1])\n",
            "\t Labels: torch.Size([10, 1])\n"
          ]
        }
      ],
      "source": [
        "### Define train dataloader\n",
        "train_dataloader = DataLoader(train_dataset_v, batch_size=10, shuffle=True)\n",
        "### Define validation dataloader\n",
        "validation_dataloader = DataLoader(validation_dataset_v, batch_size=10, shuffle=True)\n",
        "### Define test dataloader\n",
        "test_dataloader = DataLoader(test_dataset, batch_size=10, shuffle=False)\n",
        "\n",
        "batch_data, batch_labels = next(iter(train_dataloader))\n",
        "print(f\"TRAIN BATCH SHAPE\")\n",
        "print(f\"\\t Data: {batch_data.shape}\")\n",
        "print(f\"\\t Labels: {batch_labels.shape}\")\n",
        "\n",
        "batch_data, batch_labels = next(iter(validation_dataloader))\n",
        "print(f\"TRAIN BATCH SHAPE\")\n",
        "print(f\"\\t Data: {batch_data.shape}\")\n",
        "print(f\"\\t Labels: {batch_labels.shape}\")\n",
        "\n",
        "batch_data, batch_labels = next(iter(test_dataloader))\n",
        "print(f\"TEST BATCH SHAPE\")\n",
        "print(f\"\\t Data: {batch_data.shape}\")\n",
        "print(f\"\\t Labels: {batch_labels.shape}\")"
      ]
    },
    {
      "cell_type": "code",
      "execution_count": null,
      "metadata": {
        "id": "jPyv4NhwaB1J"
      },
      "outputs": [],
      "source": [
        "def training(parameters, Net=Net, device=device, best_pars=False, classification=False,\n",
        "             train_dataloader=train_dataloader, validation_dataloader=validation_dataloader):\n",
        "\n",
        "  # Initialize the network\n",
        "  torch.manual_seed(60)\n",
        "\n",
        "  net = Net(parameters['nh1'], parameters['nh2'], parameters['activation'], parameters['dropout'])\n",
        "  net.to(device)\n",
        "\n",
        "  # Loss and optimizer\n",
        "  loss_fn = parameters['loss_fn']\n",
        "\n",
        "  # Define the optimizer\n",
        "  if parameters['optimizer'] == 'Adam':\n",
        "    optimizer = optim.Adam(net.parameters(), lr=parameters['lr'], weight_decay=parameters['wd'])\n",
        "  elif parameters['optimizer'] == 'SGD':\n",
        "    optimizer = optim.SGD(net.parameters(), lr=parameters['lr'], weight_decay=parameters['wd'])\n",
        "  elif parameters['optimizer'] == 'RMS':\n",
        "    optimizer = optim.RMSprop(net.parameters(), lr=parameters['lr'], weight_decay=parameters['wd'])\n",
        "  else: print('Something went wrong..')\n",
        "\n",
        "\n",
        "  ### TRAINING LOOP\n",
        "  train_loss_log = [] \n",
        "  val_loss_log = []\n",
        "\n",
        "  for epoch_num in tqdm(range(parameters['num_epochs'])):\n",
        "    ### TRAIN\n",
        "    train_loss = []\n",
        "    net.train() # Training mode (e.g. enable dropout, batchnorm updates,...)\n",
        "\n",
        "    for sample_batched in train_dataloader:\n",
        "      # Move data to device\n",
        "      x_batch = sample_batched[0].to(device)\n",
        "      label_batch = sample_batched[1].to(device)\n",
        "\n",
        "      # Forward pass\n",
        "      out = net(x_batch)\n",
        "      # Compute loss\n",
        "      loss = loss_fn(out, label_batch)\n",
        "\n",
        "      # Backpropagation\n",
        "      net.zero_grad()\n",
        "      loss.backward()\n",
        "\n",
        "      # Update the weights\n",
        "      optimizer.step()\n",
        "      # Save train loss for this batch\n",
        "      loss_batch = loss.detach().cpu().numpy()\n",
        "      train_loss.append(loss_batch)\n",
        "\n",
        "    # Save average (over batches) train loss for each epoch\n",
        "    train_loss = np.mean(train_loss)\n",
        "    train_loss_log.append(train_loss)\n",
        "\n",
        "    ### VALIDATION\n",
        "    val_loss= []\n",
        "    net.eval() # Evaluation mode (e.g. disable dropout, batchnorm,...)\n",
        "    with torch.no_grad(): # Disable gradient tracking\n",
        "      for sample_batched in validation_dataloader:\n",
        "        # Move data to device\n",
        "        x_batch = sample_batched[0].to(device)\n",
        "        label_batch = sample_batched[1].to(device)\n",
        "\n",
        "        # Forward pass\n",
        "        out = net(x_batch)\n",
        "\n",
        "        # Compute loss\n",
        "        loss = loss_fn(out, label_batch)\n",
        "        # Save val loss for this batch\n",
        "        loss_batch = loss.detach().cpu().numpy()\n",
        "        val_loss.append(loss_batch)\n",
        "\n",
        "    # Save average validation loss\n",
        "    val_loss = np.mean(val_loss)\n",
        "    val_loss_log.append(val_loss)\n",
        "\n",
        "    if (epoch_num+1)%200 == 0:\n",
        "      print(f'# EPOCH {epoch_num+1}',f\"AVERAGE TRAIN LOSS: {train_loss:.2f}\",f\"AVERAGE VAL LOSS: {np.mean(val_loss):.2f}\")\n",
        "\n",
        "\n",
        "  ###SAVE WEIGHTS\n",
        "  if best_pars:\n",
        "    torch.save(net,'net_best.pt') \n",
        "  elif classification:\n",
        "    torch.save(net,'net_class.pt') \n",
        "\n",
        "\n",
        "  return train_loss_log, val_loss_log\n"
      ]
    },
    {
      "cell_type": "code",
      "execution_count": null,
      "metadata": {
        "id": "V2sjc5M50_AK"
      },
      "outputs": [],
      "source": [
        "parameters = {\n",
        "    'num_epochs': 1000,\n",
        "    'activation': nn.ReLU(),\n",
        "    'dropout': 0.,\n",
        "    'nh1': 64,\n",
        "    'nh2': 128,\n",
        "    'loss_fn': nn.MSELoss(),\n",
        "    'optimizer': 'Adam',\n",
        "    'lr': 1e-3,\n",
        "    'wd': 0\n",
        "    }\n"
      ]
    },
    {
      "cell_type": "code",
      "execution_count": null,
      "metadata": {
        "colab": {
          "base_uri": "https://localhost:8080/"
        },
        "id": "haXRJ6hW6fvY",
        "outputId": "86e0226b-d88c-417a-e8d9-144576196efb"
      },
      "outputs": [
        {
          "output_type": "stream",
          "name": "stderr",
          "text": [
            " 21%|██        | 211/1000 [00:03<00:12, 65.05it/s]"
          ]
        },
        {
          "output_type": "stream",
          "name": "stdout",
          "text": [
            "# EPOCH 200 AVERAGE TRAIN LOSS: 0.27 AVERAGE VAL LOSS: 0.28\n"
          ]
        },
        {
          "output_type": "stream",
          "name": "stderr",
          "text": [
            " 41%|████      | 407/1000 [00:06<00:09, 63.97it/s]"
          ]
        },
        {
          "output_type": "stream",
          "name": "stdout",
          "text": [
            "# EPOCH 400 AVERAGE TRAIN LOSS: 0.25 AVERAGE VAL LOSS: 0.32\n"
          ]
        },
        {
          "output_type": "stream",
          "name": "stderr",
          "text": [
            " 61%|██████    | 610/1000 [00:09<00:06, 64.76it/s]"
          ]
        },
        {
          "output_type": "stream",
          "name": "stdout",
          "text": [
            "# EPOCH 600 AVERAGE TRAIN LOSS: 0.24 AVERAGE VAL LOSS: 0.30\n"
          ]
        },
        {
          "output_type": "stream",
          "name": "stderr",
          "text": [
            " 81%|████████  | 806/1000 [00:12<00:02, 64.93it/s]"
          ]
        },
        {
          "output_type": "stream",
          "name": "stdout",
          "text": [
            "# EPOCH 800 AVERAGE TRAIN LOSS: 0.26 AVERAGE VAL LOSS: 0.42\n"
          ]
        },
        {
          "output_type": "stream",
          "name": "stderr",
          "text": [
            "100%|██████████| 1000/1000 [00:15<00:00, 63.96it/s]\n"
          ]
        },
        {
          "output_type": "stream",
          "name": "stdout",
          "text": [
            "# EPOCH 1000 AVERAGE TRAIN LOSS: 0.21 AVERAGE VAL LOSS: 0.26\n"
          ]
        }
      ],
      "source": [
        "training_loss, validation_loss = training(parameters)"
      ]
    },
    {
      "cell_type": "code",
      "execution_count": null,
      "metadata": {
        "colab": {
          "base_uri": "https://localhost:8080/",
          "height": 388
        },
        "id": "O5wuBEbeX4_D",
        "outputId": "0462b042-4774-4ad6-b437-5b4f7b6208a7"
      },
      "outputs": [
        {
          "output_type": "display_data",
          "data": {
            "text/plain": [
              "<Figure size 576x432 with 1 Axes>"
            ],
            "image/png": "[encoded data removed]"
          },
          "metadata": {
            "needs_background": "light"
          }
        }
      ],
      "source": [
        "# Plot losses\n",
        "fig = plt.figure(figsize=(8,6))\n",
        "plt.semilogy(training_loss, label='Train loss', color = '#5bc0de')\n",
        "plt.semilogy(validation_loss, label='Validation loss', color = '#428bca')\n",
        "\n",
        "plt.xlabel('Epoch')\n",
        "plt.ylabel('MSE Loss')\n",
        "plt.grid()\n",
        "plt.legend()\n",
        "plt.show()"
      ]
    },
    {
      "cell_type": "markdown",
      "metadata": {
        "id": "pbojKKsl8YXv"
      },
      "source": [
        "## Test"
      ]
    },
    {
      "cell_type": "code",
      "execution_count": null,
      "metadata": {
        "colab": {
          "base_uri": "https://localhost:8080/"
        },
        "id": "2kbVp0ArXSNo",
        "outputId": "83964fb7-7d2c-4cf1-983c-011fbe53bff0"
      },
      "outputs": [
        {
          "output_type": "stream",
          "name": "stdout",
          "text": [
            "Input shape: torch.Size([5000, 1])\n",
            "Output shape: torch.Size([5000, 1])\n"
          ]
        }
      ],
      "source": [
        "# Input vector\n",
        "x_vec = torch.linspace(-5,5,5000)\n",
        "x_vec = x_vec.to(device)\n",
        "x_vec = x_vec.unsqueeze(-1)  # Adding a dimension to the input vector\n",
        "print(f\"Input shape: {x_vec.shape}\")\n",
        "\n",
        "\n",
        "net.eval()\n",
        "with torch.no_grad(): # turn off gradients computation\n",
        "    y_vec = net(x_vec)\n",
        "print(f\"Output shape: {y_vec.shape}\")\n",
        "\n",
        "\n",
        "# Convert x_vec and y_vec to numpy one dimensional arrays\n",
        "x_vec = x_vec.squeeze().cpu().numpy()\n",
        "y_vec = y_vec.squeeze().cpu().numpy()\n"
      ]
    },
    {
      "cell_type": "code",
      "execution_count": null,
      "metadata": {
        "colab": {
          "base_uri": "https://localhost:8080/",
          "height": 388
        },
        "id": "9Y8Ov_DYCoIk",
        "outputId": "44617245-83bc-4261-f440-d70fe85a3f89"
      },
      "outputs": [
        {
          "output_type": "display_data",
          "data": {
            "text/plain": [
              "<Figure size 576x432 with 1 Axes>"
            ],
            "image/png": "[encoded data removed]"
          },
          "metadata": {
            "needs_background": "light"
          }
        }
      ],
      "source": [
        "# Plot output\n",
        "\n",
        "fig = plt.figure(figsize=(8,6))\n",
        "plt.plot(x_vec, y_vec, '--', color='red', label='Network output')\n",
        "plt.scatter(train_df.input, train_df.label, s=18, label='Training points', color='#428bca')\n",
        "plt.scatter(test_df.input, test_df.label, s=18, label='Test points', color='#d9534f', alpha=0.9)\n",
        "plt.xlabel('input')\n",
        "plt.ylabel('label')\n",
        "plt.grid()\n",
        "plt.legend()\n",
        "plt.show()\n"
      ]
    },
    {
      "cell_type": "markdown",
      "metadata": {
        "id": "SK-hY18ESktX"
      },
      "source": [
        "## Grid Search\n"
      ]
    },
    {
      "cell_type": "code",
      "execution_count": null,
      "metadata": {
        "id": "n2yEfCjQnzwI"
      },
      "outputs": [],
      "source": [
        "def random_gs_cv(p_dict,train_dataset,n_sampling,seed,early_stop=50):\n",
        "\n",
        "\n",
        "  #SELEZIONO IL DICT CON CUI LAVORO\n",
        "  random.seed(seed)\n",
        "\n",
        "  param_grid = ParameterGrid(p_dict)\n",
        "  selected = random.sample(list(param_grid),n_sampling)\n",
        "\n",
        "  results = []\n",
        "\n",
        "  for dict_ in tqdm(selected):\n",
        "\n",
        "    # Initialize the network\n",
        "    torch.manual_seed(60)\n",
        "\n",
        "    net = Net(dict_['nh1'], dict_['nh2'], dict_['activation'], dict_['dropout'])\n",
        "    net.to(device)\n",
        "\n",
        "    # Define the loss function\n",
        "    loss_fn = dict_['loss_fn']\n",
        "\n",
        "\n",
        "    # Define the optimizer\n",
        "    if dict_['optimizer'] == 'Adam':\n",
        "      optimizer = optim.Adam(net.parameters(), lr=dict_['lr'], weight_decay=dict_['wd'])\n",
        "    elif dict_['optimizer'] == 'SGD':\n",
        "      optimizer = optim.SGD(net.parameters(), lr=dict_['lr'], weight_decay=dict_['wd'])\n",
        "    elif dict_['optimizer'] == 'RMS':\n",
        "      optimizer = optim.RMSprop(net.parameters(), lr=dict_['lr'], weight_decay=dict_['wd'])\n",
        "    else: print('Something went wrong..')\n",
        "\n",
        "    #crossvalidation\n",
        "    splits = KFold(n_splits=dict_['fold'],shuffle=True,random_state=376)\n",
        "\n",
        "    batch_size = dict_['batch']\n",
        "    num_epochs = dict_['num_epochs']\n",
        "\n",
        "    train_loss_fold = 0\n",
        "    val_loss_fold = 0\n",
        "\n",
        "    for fold, (train_idx,val_idx) in enumerate(splits.split(np.arange(len(train_dataset)))):\n",
        "\n",
        "      train_sampler = SubsetRandomSampler(train_idx)\n",
        "      val_sampler = SubsetRandomSampler(val_idx)\n",
        "      train_dataloader = DataLoader(train_dataset, batch_size=batch_size, sampler=train_sampler)\n",
        "      val_dataloader = DataLoader(train_dataset, batch_size=batch_size, sampler=val_sampler)\n",
        "\n",
        "      ### TRAINING LOOP\n",
        "\n",
        "      train_loss_log = [] #for each fold, they will contain the average (over batch) train loss, one for each epoch\n",
        "      val_loss_log = []\n",
        "      \n",
        "      train_loss = [] #contengono le loss dell'ultima epoch per tutte le batch\n",
        "      val_loss = []\n",
        "\n",
        "      for epoch_num in range(num_epochs):\n",
        "        ### TRAIN\n",
        "        \n",
        "        net.train() # Training mode (e.g. enable dropout, batchnorm updates,...)\n",
        "\n",
        "        for sample_batched in train_dataloader:\n",
        "          # Move data to device\n",
        "          x_batch = sample_batched[0].to(device)\n",
        "          label_batch = sample_batched[1].to(device)\n",
        "\n",
        "          # Forward pass\n",
        "          out = net(x_batch)\n",
        "\n",
        "          # Compute loss\n",
        "          loss = loss_fn(out, label_batch)\n",
        "\n",
        "          # Backpropagation\n",
        "          net.zero_grad() #cleaning gradients\n",
        "          loss.backward()\n",
        "\n",
        "          # Update the weights\n",
        "          optimizer.step()\n",
        "\n",
        "          # Save train loss for this batch only for the last epoch\n",
        "          if epoch_num+1 == num_epochs:\n",
        "            loss_batch = loss.detach().cpu().numpy()\n",
        "            train_loss.append(loss_batch)\n",
        "\n",
        "\n",
        "        ### VALIDATION\n",
        "        net.eval() # Evaluation mode (e.g. disable dropout, batchnorm,...)\n",
        "        with torch.no_grad(): # Disable gradient tracking\n",
        "          for sample_batched in val_dataloader:\n",
        "            # Move data to device\n",
        "            x_batch = sample_batched[0].to(device)\n",
        "            label_batch = sample_batched[1].to(device)\n",
        "\n",
        "            # Forward pass\n",
        "            out = net(x_batch)\n",
        "\n",
        "            # Compute loss\n",
        "            loss = loss_fn(out, label_batch)\n",
        "\n",
        "            # Save train loss for this batch only for the last epoch\n",
        "            if epoch_num+1 == num_epochs:\n",
        "              loss_batch = loss.detach().cpu().numpy()\n",
        "              val_loss.append(loss_batch)\n",
        "\n",
        "      # Save average train and validation loss for final epoch per ogni fold\n",
        "      train_loss = np.mean(train_loss)\n",
        "      train_loss_log.append(train_loss)\n",
        "\n",
        "      val_loss = np.mean(val_loss)\n",
        "      val_loss_log.append(val_loss)\n",
        "\n",
        "      if epoch_num > early_stop and (all(x > val_loss for x in val_loss_log[-early_stop:])):\n",
        "        print('Early stopping occurs')\n",
        "        break\n",
        "\n",
        "      ### RESET WEIGHTS\n",
        "      for layer in net.children():\n",
        "        if hasattr(layer, 'reset_parameters'): #The hasattr() function returns True if the specified object has the specified attribute, otherwise False.\n",
        "          layer.reset_parameters()\n",
        "\n",
        "\n",
        "    #appendo solo i valori dell'ultima epoch mediati su tutte le fold\n",
        "    train_loss_fold = np.mean(train_loss_log)\n",
        "    val_loss_fold = np.mean(val_loss_log)\n",
        "    \n",
        "    #aggiungo solo il valore medio di tutte le fold\n",
        "    dict_['train_loss'] = train_loss_fold #media sulle batch e poi sulle fold\n",
        "    dict_['val_loss'] = val_loss_fold\n",
        "\n",
        "    #risultati\n",
        "    results.append(dict_)\n",
        "\n",
        "  return results\n",
        "          "
      ]
    },
    {
      "cell_type": "code",
      "execution_count": null,
      "metadata": {
        "id": "bWcAQD2SSkE1"
      },
      "outputs": [],
      "source": [
        "params = {\n",
        "    'fold' : [5],\n",
        "    'num_epochs' : [200],\n",
        "    'nh1' : [64,128],\n",
        "    'nh2' : [16,64],\n",
        "    'activation' : [nn.ReLU(),nn.Sigmoid()],\n",
        "    'dropout' : [0,0.2,0.4],\n",
        "    'batch' : [10],\n",
        "    'optimizer' : ['SGD','Adam','RMS'],\n",
        "    'lr' : [0.05,0.01,0.005,0.001],\n",
        "    'wd' : [0,0.01,0.0001],\n",
        "    'loss_fn': [nn.MSELoss()]\n",
        "}\n"
      ]
    },
    {
      "cell_type": "code",
      "execution_count": null,
      "metadata": {
        "colab": {
          "base_uri": "https://localhost:8080/"
        },
        "id": "RIPs7hc4tfH2",
        "outputId": "b518f214-2592-4a9e-ae72-efa9c0df692b"
      },
      "outputs": [
        {
          "output_type": "stream",
          "name": "stderr",
          "text": [
            "100%|██████████| 20/20 [03:13<00:00,  9.66s/it]\n"
          ]
        }
      ],
      "source": [
        "ris = random_gs_cv (params,train_dataset,n_sampling=20,seed=456)\n"
      ]
    },
    {
      "cell_type": "code",
      "execution_count": null,
      "metadata": {
        "colab": {
          "base_uri": "https://localhost:8080/",
          "height": 270
        },
        "id": "wiryb9u8nyFQ",
        "outputId": "e14d46df-3025-4512-b9a5-848f7136eb85"
      },
      "outputs": [
        {
          "output_type": "execute_result",
          "data": {
            "text/plain": [
              "   activation  batch  dropout  fold    loss_fn     lr  nh1  nh2  num_epochs  \\\n",
              "18     ReLU()     10      0.0     5  MSELoss()  0.005   64   64         200   \n",
              "12  Sigmoid()     10      0.0     5  MSELoss()  0.005  128   64         200   \n",
              "7      ReLU()     10      0.0     5  MSELoss()  0.010   64   16         200   \n",
              "15  Sigmoid()     10      0.0     5  MSELoss()  0.010  128   64         200   \n",
              "13     ReLU()     10      0.0     5  MSELoss()  0.001   64   64         200   \n",
              "\n",
              "   optimizer      wd  train_loss  val_loss  \n",
              "18      Adam  0.0001    0.283996  0.372161  \n",
              "12      Adam  0.0000    0.298850  0.307902  \n",
              "7       Adam  0.0001    0.380157  0.377968  \n",
              "15      Adam  0.0001    0.399696  0.374514  \n",
              "13       RMS  0.0100    0.513080  0.345560  "
            ],
            "text/html": [
              "\n",
              "  <div id=\"df-0d78ee26-7fdb-4d12-a0f0-743ecbd9f054\">\n",
              "    <div class=\"colab-df-container\">\n",
              "      <div>\n",
              "<style scoped>\n",
              "    .dataframe tbody tr th:only-of-type {\n",
              "        vertical-align: middle;\n",
              "    }\n",
              "\n",
              "    .dataframe tbody tr th {\n",
              "        vertical-align: top;\n",
              "    }\n",
              "\n",
              "    .dataframe thead th {\n",
              "        text-align: right;\n",
              "    }\n",
              "</style>\n",
              "<table border=\"1\" class=\"dataframe\">\n",
              "  <thead>\n",
              "    <tr style=\"text-align: right;\">\n",
              "      <th></th>\n",
              "      <th>activation</th>\n",
              "      <th>batch</th>\n",
              "      <th>dropout</th>\n",
              "      <th>fold</th>\n",
              "      <th>loss_fn</th>\n",
              "      <th>lr</th>\n",
              "      <th>nh1</th>\n",
              "      <th>nh2</th>\n",
              "      <th>num_epochs</th>\n",
              "      <th>optimizer</th>\n",
              "      <th>wd</th>\n",
              "      <th>train_loss</th>\n",
              "      <th>val_loss</th>\n",
              "    </tr>\n",
              "  </thead>\n",
              "  <tbody>\n",
              "    <tr>\n",
              "      <th>18</th>\n",
              "      <td>ReLU()</td>\n",
              "      <td>10</td>\n",
              "      <td>0.0</td>\n",
              "      <td>5</td>\n",
              "      <td>MSELoss()</td>\n",
              "      <td>0.005</td>\n",
              "      <td>64</td>\n",
              "      <td>64</td>\n",
              "      <td>200</td>\n",
              "      <td>Adam</td>\n",
              "      <td>0.0001</td>\n",
              "      <td>0.283996</td>\n",
              "      <td>0.372161</td>\n",
              "    </tr>\n",
              "    <tr>\n",
              "      <th>12</th>\n",
              "      <td>Sigmoid()</td>\n",
              "      <td>10</td>\n",
              "      <td>0.0</td>\n",
              "      <td>5</td>\n",
              "      <td>MSELoss()</td>\n",
              "      <td>0.005</td>\n",
              "      <td>128</td>\n",
              "      <td>64</td>\n",
              "      <td>200</td>\n",
              "      <td>Adam</td>\n",
              "      <td>0.0000</td>\n",
              "      <td>0.298850</td>\n",
              "      <td>0.307902</td>\n",
              "    </tr>\n",
              "    <tr>\n",
              "      <th>7</th>\n",
              "      <td>ReLU()</td>\n",
              "      <td>10</td>\n",
              "      <td>0.0</td>\n",
              "      <td>5</td>\n",
              "      <td>MSELoss()</td>\n",
              "      <td>0.010</td>\n",
              "      <td>64</td>\n",
              "      <td>16</td>\n",
              "      <td>200</td>\n",
              "      <td>Adam</td>\n",
              "      <td>0.0001</td>\n",
              "      <td>0.380157</td>\n",
              "      <td>0.377968</td>\n",
              "    </tr>\n",
              "    <tr>\n",
              "      <th>15</th>\n",
              "      <td>Sigmoid()</td>\n",
              "      <td>10</td>\n",
              "      <td>0.0</td>\n",
              "      <td>5</td>\n",
              "      <td>MSELoss()</td>\n",
              "      <td>0.010</td>\n",
              "      <td>128</td>\n",
              "      <td>64</td>\n",
              "      <td>200</td>\n",
              "      <td>Adam</td>\n",
              "      <td>0.0001</td>\n",
              "      <td>0.399696</td>\n",
              "      <td>0.374514</td>\n",
              "    </tr>\n",
              "    <tr>\n",
              "      <th>13</th>\n",
              "      <td>ReLU()</td>\n",
              "      <td>10</td>\n",
              "      <td>0.0</td>\n",
              "      <td>5</td>\n",
              "      <td>MSELoss()</td>\n",
              "      <td>0.001</td>\n",
              "      <td>64</td>\n",
              "      <td>64</td>\n",
              "      <td>200</td>\n",
              "      <td>RMS</td>\n",
              "      <td>0.0100</td>\n",
              "      <td>0.513080</td>\n",
              "      <td>0.345560</td>\n",
              "    </tr>\n",
              "  </tbody>\n",
              "</table>\n",
              "</div>\n",
              "      <button class=\"colab-df-convert\" onclick=\"convertToInteractive('df-0d78ee26-7fdb-4d12-a0f0-743ecbd9f054')\"\n",
              "              title=\"Convert this dataframe to an interactive table.\"\n",
              "              style=\"display:none;\">\n",
              "        \n",
              "  <svg xmlns=\"http://www.w3.org/2000/svg\" height=\"24px\"viewBox=\"0 0 24 24\"\n",
              "       width=\"24px\">\n",
              "    <path d=\"M0 0h24v24H0V0z\" fill=\"none\"/>\n",
              "    <path d=\"M18.56 5.44l.94 2.06.94-2.06 2.06-.94-2.06-.94-.94-2.06-.94 2.06-2.06.94zm-11 1L8.5 8.5l.94-2.06 2.06-.94-2.06-.94L8.5 2.5l-.94 2.06-2.06.94zm10 10l.94 2.06.94-2.06 2.06-.94-2.06-.94-.94-2.06-.94 2.06-2.06.94z\"/><path d=\"M17.41 7.96l-1.37-1.37c-.4-.4-.92-.59-1.43-.59-.52 0-1.04.2-1.43.59L10.3 9.45l-7.72 7.72c-.78.78-.78 2.05 0 2.83L4 21.41c.39.39.9.59 1.41.59.51 0 1.02-.2 1.41-.59l7.78-7.78 2.81-2.81c.8-.78.8-2.07 0-2.86zM5.41 20L4 18.59l7.72-7.72 1.47 1.35L5.41 20z\"/>\n",
              "  </svg>\n",
              "      </button>\n",
              "      \n",
              "  <style>\n",
              "    .colab-df-container {\n",
              "      display:flex;\n",
              "      flex-wrap:wrap;\n",
              "      gap: 12px;\n",
              "    }\n",
              "\n",
              "    .colab-df-convert {\n",
              "      background-color: #E8F0FE;\n",
              "      border: none;\n",
              "      border-radius: 50%;\n",
              "      cursor: pointer;\n",
              "      display: none;\n",
              "      fill: #1967D2;\n",
              "      height: 32px;\n",
              "      padding: 0 0 0 0;\n",
              "      width: 32px;\n",
              "    }\n",
              "\n",
              "    .colab-df-convert:hover {\n",
              "      background-color: #E2EBFA;\n",
              "      box-shadow: 0px 1px 2px rgba(60, 64, 67, 0.3), 0px 1px 3px 1px rgba(60, 64, 67, 0.15);\n",
              "      fill: #174EA6;\n",
              "    }\n",
              "\n",
              "    [theme=dark] .colab-df-convert {\n",
              "      background-color: #3B4455;\n",
              "      fill: #D2E3FC;\n",
              "    }\n",
              "\n",
              "    [theme=dark] .colab-df-convert:hover {\n",
              "      background-color: #434B5C;\n",
              "      box-shadow: 0px 1px 3px 1px rgba(0, 0, 0, 0.15);\n",
              "      filter: drop-shadow(0px 1px 2px rgba(0, 0, 0, 0.3));\n",
              "      fill: #FFFFFF;\n",
              "    }\n",
              "  </style>\n",
              "\n",
              "      <script>\n",
              "        const buttonEl =\n",
              "          document.querySelector('#df-0d78ee26-7fdb-4d12-a0f0-743ecbd9f054 button.colab-df-convert');\n",
              "        buttonEl.style.display =\n",
              "          google.colab.kernel.accessAllowed ? 'block' : 'none';\n",
              "\n",
              "        async function convertToInteractive(key) {\n",
              "          const element = document.querySelector('#df-0d78ee26-7fdb-4d12-a0f0-743ecbd9f054');\n",
              "          const dataTable =\n",
              "            await google.colab.kernel.invokeFunction('convertToInteractive',\n",
              "                                                     [key], {});\n",
              "          if (!dataTable) return;\n",
              "\n",
              "          const docLinkHtml = 'Like what you see? Visit the ' +\n",
              "            '<a target=\"_blank\" href=https://colab.research.google.com/notebooks/data_table.ipynb>data table notebook</a>'\n",
              "            + ' to learn more about interactive tables.';\n",
              "          element.innerHTML = '';\n",
              "          dataTable['output_type'] = 'display_data';\n",
              "          await google.colab.output.renderOutput(dataTable, element);\n",
              "          const docLink = document.createElement('div');\n",
              "          docLink.innerHTML = docLinkHtml;\n",
              "          element.appendChild(docLink);\n",
              "        }\n",
              "      </script>\n",
              "    </div>\n",
              "  </div>\n",
              "  "
            ]
          },
          "metadata": {},
          "execution_count": 75
        }
      ],
      "source": [
        "ris_df=pd.DataFrame.from_dict(ris).sort_values(by=['train_loss'])\n",
        "ris_df.head()\n"
      ]
    },
    {
      "cell_type": "markdown",
      "metadata": {
        "id": "G1qwrwxU1uZn"
      },
      "source": [
        "## Training with the best params found"
      ]
    },
    {
      "cell_type": "code",
      "source": [
        "best_params = {\n",
        "    'num_epochs': 2000,\n",
        "    'activation': nn.ReLU(),\n",
        "    'dropout': 0,\n",
        "    'nh1': 64,\n",
        "    'nh2': 64,\n",
        "    'loss_fn': nn.MSELoss(),\n",
        "    'optimizer': 'Adam',\n",
        "    'lr': 0.005,\n",
        "    'wd': 0.0001\n",
        "}"
      ],
      "metadata": {
        "id": "rb3GqDzQ3nNN"
      },
      "execution_count": null,
      "outputs": []
    },
    {
      "cell_type": "code",
      "execution_count": null,
      "metadata": {
        "colab": {
          "base_uri": "https://localhost:8080/"
        },
        "outputId": "7fd076ab-c2c9-43fa-d859-b00e7200ecc5",
        "id": "ZXC28MKrcUIV"
      },
      "outputs": [
        {
          "output_type": "stream",
          "name": "stderr",
          "text": [
            " 11%|█         | 215/2000 [00:03<00:20, 85.47it/s]"
          ]
        },
        {
          "output_type": "stream",
          "name": "stdout",
          "text": [
            "# EPOCH 200 AVERAGE TRAIN LOSS: 0.41 AVERAGE VAL LOSS: 0.57\n"
          ]
        },
        {
          "output_type": "stream",
          "name": "stderr",
          "text": [
            " 21%|██        | 413/2000 [00:05<00:19, 83.22it/s]"
          ]
        },
        {
          "output_type": "stream",
          "name": "stdout",
          "text": [
            "# EPOCH 400 AVERAGE TRAIN LOSS: 0.29 AVERAGE VAL LOSS: 0.29\n"
          ]
        },
        {
          "output_type": "stream",
          "name": "stderr",
          "text": [
            " 31%|███       | 611/2000 [00:08<00:16, 84.44it/s]"
          ]
        },
        {
          "output_type": "stream",
          "name": "stdout",
          "text": [
            "# EPOCH 600 AVERAGE TRAIN LOSS: 0.29 AVERAGE VAL LOSS: 0.36\n"
          ]
        },
        {
          "output_type": "stream",
          "name": "stderr",
          "text": [
            " 41%|████      | 811/2000 [00:10<00:15, 78.92it/s]"
          ]
        },
        {
          "output_type": "stream",
          "name": "stdout",
          "text": [
            "# EPOCH 800 AVERAGE TRAIN LOSS: 0.22 AVERAGE VAL LOSS: 0.34\n"
          ]
        },
        {
          "output_type": "stream",
          "name": "stderr",
          "text": [
            " 50%|█████     | 1007/2000 [00:14<00:22, 44.02it/s]"
          ]
        },
        {
          "output_type": "stream",
          "name": "stdout",
          "text": [
            "# EPOCH 1000 AVERAGE TRAIN LOSS: 0.21 AVERAGE VAL LOSS: 0.31\n"
          ]
        },
        {
          "output_type": "stream",
          "name": "stderr",
          "text": [
            " 60%|██████    | 1210/2000 [00:17<00:09, 81.36it/s]"
          ]
        },
        {
          "output_type": "stream",
          "name": "stdout",
          "text": [
            "# EPOCH 1200 AVERAGE TRAIN LOSS: 0.32 AVERAGE VAL LOSS: 0.41\n"
          ]
        },
        {
          "output_type": "stream",
          "name": "stderr",
          "text": [
            " 71%|███████   | 1414/2000 [00:20<00:07, 81.98it/s]"
          ]
        },
        {
          "output_type": "stream",
          "name": "stdout",
          "text": [
            "# EPOCH 1400 AVERAGE TRAIN LOSS: 0.31 AVERAGE VAL LOSS: 0.31\n"
          ]
        },
        {
          "output_type": "stream",
          "name": "stderr",
          "text": [
            " 81%|████████  | 1612/2000 [00:22<00:05, 76.23it/s]"
          ]
        },
        {
          "output_type": "stream",
          "name": "stdout",
          "text": [
            "# EPOCH 1600 AVERAGE TRAIN LOSS: 0.25 AVERAGE VAL LOSS: 0.30\n"
          ]
        },
        {
          "output_type": "stream",
          "name": "stderr",
          "text": [
            " 91%|█████████ | 1813/2000 [00:25<00:02, 79.04it/s]"
          ]
        },
        {
          "output_type": "stream",
          "name": "stdout",
          "text": [
            "# EPOCH 1800 AVERAGE TRAIN LOSS: 0.21 AVERAGE VAL LOSS: 0.34\n"
          ]
        },
        {
          "output_type": "stream",
          "name": "stderr",
          "text": [
            "100%|██████████| 2000/2000 [00:28<00:00, 70.01it/s]"
          ]
        },
        {
          "output_type": "stream",
          "name": "stdout",
          "text": [
            "# EPOCH 2000 AVERAGE TRAIN LOSS: 0.25 AVERAGE VAL LOSS: 0.38\n"
          ]
        },
        {
          "output_type": "stream",
          "name": "stderr",
          "text": [
            "\n"
          ]
        }
      ],
      "source": [
        "best_training_loss, best_validation_loss = training(best_params, best_pars=True)"
      ]
    },
    {
      "cell_type": "code",
      "source": [
        "# Plot losses\n",
        "fig = plt.figure(figsize=(8,6))\n",
        "plt.semilogy(best_training_loss, label='Train loss', color = '#5bc0de')\n",
        "plt.semilogy(best_validation_loss, label='Validation loss', color = '#428bca')\n",
        "\n",
        "plt.xlabel('Epoch')\n",
        "plt.ylabel('MSE Loss')\n",
        "plt.title('Training with best parameters found')\n",
        "plt.grid()\n",
        "plt.legend()\n",
        "plt.show()"
      ],
      "metadata": {
        "colab": {
          "base_uri": "https://localhost:8080/",
          "height": 404
        },
        "id": "2_lkqC-LcyRj",
        "outputId": "567fbc8c-a59c-4e82-8521-180a5118c68d"
      },
      "execution_count": null,
      "outputs": [
        {
          "output_type": "display_data",
          "data": {
            "text/plain": [
              "<Figure size 576x432 with 1 Axes>"
            ],
            "image/png": "[encoded data removed]"
          },
          "metadata": {
            "needs_background": "light"
          }
        }
      ]
    },
    {
      "cell_type": "code",
      "execution_count": null,
      "metadata": {
        "id": "T4kSvfar79uA"
      },
      "outputs": [],
      "source": [
        "net = torch.load('net_best.pt')\n",
        "\n",
        "# Input vector\n",
        "x_vec = torch.linspace(-5,5,5000)\n",
        "x_vec = x_vec.to(device)\n",
        "x_vec = x_vec.unsqueeze(-1)  # Adding a dimension to the input vector\n",
        "\n",
        "\n",
        "net.eval()\n",
        "with torch.no_grad(): # turn off gradients computation\n",
        "    y_vec = net(x_vec)\n",
        "\n",
        "# Convert x_vec and y_vec to numpy one dimensional arrays\n",
        "x_vec = x_vec.squeeze().cpu().numpy()\n",
        "y_vec = y_vec.squeeze().cpu().numpy()\n",
        "\n"
      ]
    },
    {
      "cell_type": "code",
      "source": [
        "#TEST LOSS\n",
        "loss_fn = nn.MSELoss()\n",
        "test_loss = []\n",
        "\n",
        "net.eval()\n",
        "with torch.no_grad():\n",
        "  for sample_batched in test_dataloader:\n",
        "    # Move data to device\n",
        "    x_batch = sample_batched[0].to(device)\n",
        "    label_batch = sample_batched[1].to(device)\n",
        "\n",
        "    # Forward pass\n",
        "    out = net(x_batch)\n",
        "\n",
        "    # Compute loss\n",
        "    loss = loss_fn(out, label_batch)\n",
        "    # Save val loss for this batch\n",
        "    loss_batch = loss.detach().cpu().numpy()\n",
        "    test_loss.append(loss_batch)\n",
        "\n",
        "\n",
        "test_loss = np.mean(test_loss)\n"
      ],
      "metadata": {
        "id": "67TWgM1s-d5u"
      },
      "execution_count": null,
      "outputs": []
    },
    {
      "cell_type": "code",
      "source": [
        "# Plot output\n",
        "\n",
        "fig = plt.figure(figsize=(8,6))\n",
        "plt.plot(x_vec, y_vec, '--', color='red', label='Network output')\n",
        "plt.scatter(train_df.input, train_df.label, s=18, label='Training points', color='#428bca')\n",
        "plt.scatter(test_df.input, test_df.label, s=18, label='Test points', color='#d9534f', alpha=0.9)\n",
        "plt.xlabel('input')\n",
        "plt.ylabel('label')\n",
        "plt.title(f'Best network. Test loss = {test_loss}')\n",
        "plt.grid()\n",
        "plt.legend()\n",
        "plt.show()\n"
      ],
      "metadata": {
        "colab": {
          "base_uri": "https://localhost:8080/",
          "height": 404
        },
        "id": "0kGTBNt9-Qxh",
        "outputId": "8e5e3043-f353-4ea8-d1c6-0176ab74ea81"
      },
      "execution_count": null,
      "outputs": [
        {
          "output_type": "display_data",
          "data": {
            "text/plain": [
              "<Figure size 576x432 with 1 Axes>"
            ],
            "image/png": "[encoded data removed]"
          },
          "metadata": {
            "needs_background": "light"
          }
        }
      ]
    },
    {
      "cell_type": "markdown",
      "metadata": {
        "id": "qhu-S2U7Se5f"
      },
      "source": [
        "## Weight histograms\n",
        "\n"
      ]
    },
    {
      "cell_type": "code",
      "source": [
        "net = torch.load('net_best.pt')"
      ],
      "metadata": {
        "id": "bsUpjqN8FfJ4"
      },
      "execution_count": null,
      "outputs": []
    },
    {
      "cell_type": "code",
      "execution_count": null,
      "metadata": {
        "id": "uDgv9tIJkvKn"
      },
      "outputs": [],
      "source": [
        "# First hidden layer\n",
        "h1_w = net.fc1.weight.data.cpu().numpy()\n",
        "h1_b = net.fc1.bias.data.cpu().numpy()\n",
        "\n",
        "# Second hidden layer\n",
        "h2_w = net.fc2.weight.data.cpu().numpy()\n",
        "h2_b = net.fc2.bias.data.cpu().numpy()\n",
        "\n",
        "# Output layer\n",
        "out_w = net.out.weight.data.cpu().numpy()\n",
        "out_b = net.out.bias.data.cpu().numpy()"
      ]
    },
    {
      "cell_type": "code",
      "execution_count": null,
      "metadata": {
        "colab": {
          "base_uri": "https://localhost:8080/",
          "height": 441
        },
        "id": "zNS27jm0kSVH",
        "outputId": "e6117ffe-5ff0-47b6-c2a4-ac94c6dca44e"
      },
      "outputs": [
        {
          "output_type": "display_data",
          "data": {
            "text/plain": [
              "<Figure size 576x432 with 3 Axes>"
            ],
            "image/png": "[encoded data removed]"
          },
          "metadata": {
            "needs_background": "light"
          }
        }
      ],
      "source": [
        "# Weights histogram\n",
        "fig, axs = plt.subplots(3, 1, figsize=(8,6))\n",
        "axs[0].hist(h1_w.flatten(), 50)\n",
        "axs[0].set_title('First hidden layer weights')\n",
        "axs[1].hist(h2_w.flatten(), 50)\n",
        "axs[1].set_title('Second hidden layer weights')\n",
        "axs[2].hist(out_w.flatten(), 50)\n",
        "axs[2].set_title('Output layer weights')\n",
        "[ax.grid() for ax in axs]\n",
        "plt.tight_layout()\n",
        "plt.show()"
      ]
    },
    {
      "cell_type": "markdown",
      "metadata": {
        "id": "l00zGWv0W7j5"
      },
      "source": [
        "## Activation profiles"
      ]
    },
    {
      "cell_type": "code",
      "source": [
        "net = torch.load('net_best.pt')"
      ],
      "metadata": {
        "id": "HxdMMBafGZdv"
      },
      "execution_count": null,
      "outputs": []
    },
    {
      "cell_type": "code",
      "execution_count": null,
      "metadata": {
        "id": "p6HW1RNr--fC"
      },
      "outputs": [],
      "source": [
        "def get_activ(layer, input, output):\n",
        "    global activ\n",
        "    activ = torch.relu(output)"
      ]
    },
    {
      "cell_type": "code",
      "execution_count": null,
      "metadata": {
        "colab": {
          "base_uri": "https://localhost:8080/",
          "height": 441
        },
        "id": "Mq-F1RGW-sKt",
        "outputId": "63a2e227-2d6a-446b-f5dd-e144237b0dfb"
      },
      "outputs": [
        {
          "output_type": "display_data",
          "data": {
            "text/plain": [
              "<Figure size 576x432 with 3 Axes>"
            ],
            "image/png": "[encoded data removed]"
          },
          "metadata": {
            "needs_background": "light"
          }
        }
      ],
      "source": [
        "### Register hook  \n",
        "hook_handle = net.fc1.register_forward_hook(get_activ)\n",
        "\n",
        "### Analyze activations\n",
        "\n",
        "net = net.to(device)\n",
        "net.eval()\n",
        "with torch.no_grad():\n",
        "    x1 = torch.tensor([-3]).float().to(device)\n",
        "    y1 = net(x1)\n",
        "    z1 = activ\n",
        "    x2 = torch.tensor([0]).float().to(device)\n",
        "    y2 = net(x2)\n",
        "    z2 = activ\n",
        "    x3 = torch.tensor([5]).float().to(device)\n",
        "    y3 = net(x3)\n",
        "    z3 = activ\n",
        "\n",
        "### Remove hook\n",
        "hook_handle.remove()\n",
        "\n",
        "### Plot activations\n",
        "fig, axs = plt.subplots(3, 1, figsize=(8,6))\n",
        "axs[0].stem(z1.cpu().numpy(), use_line_collection=True)\n",
        "axs[0].set_title('First layer activations for input x=%.2f' % x1)\n",
        "axs[0].set_ylim(0,3)\n",
        "axs[1].stem(z2.cpu().numpy(), use_line_collection=True)\n",
        "axs[1].set_title('First layer activations for input x=%.2f' % x2)\n",
        "axs[1].set_ylim(0,3)\n",
        "axs[2].stem(z3.cpu().numpy(), use_line_collection=True)\n",
        "axs[2].set_title('First layer activations for input x=%.2f' % x3)\n",
        "axs[2].set_ylim(0,3)\n",
        "plt.tight_layout()\n",
        "plt.show()"
      ]
    },
    {
      "cell_type": "code",
      "execution_count": null,
      "metadata": {
        "colab": {
          "base_uri": "https://localhost:8080/",
          "height": 441
        },
        "id": "9xdymKSS-sNB",
        "outputId": "ec86dbec-a7ce-4c1a-f3cd-9fe5b3cf4010"
      },
      "outputs": [
        {
          "output_type": "display_data",
          "data": {
            "text/plain": [
              "<Figure size 576x432 with 3 Axes>"
            ],
            "image/png": "[encoded data removed]"
          },
          "metadata": {
            "needs_background": "light"
          }
        }
      ],
      "source": [
        "### Register hook  \n",
        "hook_handle = net.fc2.register_forward_hook(get_activ)\n",
        "\n",
        "### Analyze activations\n",
        "\n",
        "net = net.to(device)\n",
        "net.eval()\n",
        "with torch.no_grad():\n",
        "    x1 = torch.tensor([-3]).float().to(device)\n",
        "    y1 = net(x1)\n",
        "    z1 = activ\n",
        "    x2 = torch.tensor([0]).float().to(device)\n",
        "    y2 = net(x2)\n",
        "    z2 = activ\n",
        "    x3 = torch.tensor([5]).float().to(device)\n",
        "    y3 = net(x3)\n",
        "    z3 = activ\n",
        "\n",
        "### Remove hook\n",
        "hook_handle.remove()\n",
        "\n",
        "### Plot activations\n",
        "fig, axs = plt.subplots(3, 1, figsize=(8,6))\n",
        "axs[0].stem(z1.cpu().numpy(), use_line_collection=True)\n",
        "axs[0].set_title('Second layer activations for input x=%.2f' % x1)\n",
        "axs[0].set_ylim(0,9)\n",
        "axs[1].stem(z2.cpu().numpy(), use_line_collection=True)\n",
        "axs[1].set_title('Second layer activations for input x=%.2f' % x2)\n",
        "axs[1].set_ylim(0,9)\n",
        "axs[2].stem(z3.cpu().numpy(), use_line_collection=True)\n",
        "axs[2].set_title('Second layer activations for input x=%.2f' % x3)\n",
        "axs[2].set_ylim(0,9)\n",
        "plt.tight_layout()\n",
        "plt.show()"
      ]
    },
    {
      "cell_type": "code",
      "execution_count": null,
      "metadata": {
        "colab": {
          "base_uri": "https://localhost:8080/",
          "height": 441
        },
        "id": "7y3IAwxA-sP3",
        "outputId": "76a6690e-f3f2-43af-b761-39f9ff0e42d2"
      },
      "outputs": [
        {
          "output_type": "display_data",
          "data": {
            "text/plain": [
              "<Figure size 576x432 with 3 Axes>"
            ],
            "image/png": "[encoded data removed]"
          },
          "metadata": {
            "needs_background": "light"
          }
        }
      ],
      "source": [
        "### Register hook  \n",
        "hook_handle = net.out.register_forward_hook(get_activ)\n",
        "\n",
        "### Analyze activations\n",
        "\n",
        "net = net.to(device)\n",
        "net.eval()\n",
        "with torch.no_grad():\n",
        "    x1 = torch.tensor([-3]).float().to(device)\n",
        "    y1 = net(x1)\n",
        "    z1 = activ\n",
        "    x2 = torch.tensor([0]).float().to(device)\n",
        "    y2 = net(x2)\n",
        "    z2 = activ\n",
        "    x3 = torch.tensor([5]).float().to(device)\n",
        "    y3 = net(x3)\n",
        "    z3 = activ\n",
        "\n",
        "### Remove hook\n",
        "hook_handle.remove()\n",
        "\n",
        "### Plot activations\n",
        "fig, axs = plt.subplots(3, 1, figsize=(8,6))\n",
        "axs[0].stem(z1.cpu().numpy(), use_line_collection=True)\n",
        "axs[0].set_title('Out layer activations for input x=%.2f' % x1)\n",
        "axs[0].set_ylim(0,8)\n",
        "axs[1].stem(z2.cpu().numpy(), use_line_collection=True)\n",
        "axs[1].set_title('Out layer activations for input x=%.2f' % x2)\n",
        "axs[1].set_ylim(0,8)\n",
        "axs[2].stem(z3.cpu().numpy(), use_line_collection=True)\n",
        "axs[2].set_title('Out layer activations for input x=%.2f' % x3)\n",
        "axs[2].set_ylim(0,8)\n",
        "plt.tight_layout()\n",
        "plt.show()"
      ]
    },
    {
      "cell_type": "markdown",
      "source": [
        "In these activation profiles is clearly shown the difference between the inputs: their label are significantly different, and this is well represented in the network activity."
      ],
      "metadata": {
        "id": "0XrEfyJcjGE0"
      }
    },
    {
      "cell_type": "markdown",
      "metadata": {
        "id": "SxW5QfJRvWV9"
      },
      "source": [
        "# Classification task\n",
        "\n",
        "The goal is to train a neural network that maps an input image (from fashionMNIST) to one of ten classes (multi-class classification problem with mutually exclusive classes).\n",
        "\n",
        "In this section I start by performing classification with a fully connected neural network (the 'vanilla' classification). After this, I define a CNN and, using Skorch, perform a randomized grid search with crossvalidation.\n",
        "\n",
        "Finally, I analyze the network plotting weights and activation profiles."
      ]
    },
    {
      "cell_type": "markdown",
      "metadata": {
        "id": "rsvBiTw7ykT5"
      },
      "source": [
        "## Dataset"
      ]
    },
    {
      "cell_type": "markdown",
      "metadata": {
        "id": "EYaGs-I_zRk-"
      },
      "source": [
        "Download the dataset:"
      ]
    },
    {
      "cell_type": "code",
      "execution_count": null,
      "metadata": {
        "id": "7Y-nXmVn2wle"
      },
      "outputs": [],
      "source": [
        "transform=transforms.Compose([transforms.ToTensor(),\n",
        "                              transforms.Normalize(mean=0.5,std=0.5)\n",
        "                              ])"
      ]
    },
    {
      "cell_type": "code",
      "execution_count": null,
      "metadata": {
        "colab": {
          "base_uri": "https://localhost:8080/",
          "height": 443,
          "referenced_widgets": [
            "79a9ec72fa0c4c7dbdf91bf95688f6be",
            "d5fa66ed39ad471d964ab0b0b7074630",
            "cad8b36d8ad445d991da9c26b5ba1fd3",
            "4b8d9e26c42a4f43968bdffd9a180396",
            "2173099e394e4cdfbfe9c55d57eeb302",
            "6d4273faa8934f7d9aafe339bcd2c2eb",
            "80cba733407f4156abca2d8c78c66378",
            "7ba2a4c93422433bb9a4257ddcfb11e8",
            "da4d32f215604091b1c7fe9c8adb22ef",
            "47865e58a93e42058e9d5dd2251c5207",
            "58f8f76c984948c992e92ebd2edad85a",
            "7272fdff8379443188d722811d79b054",
            "bdc3b81bbb284a679bfcac68d60e96a2",
            "8e4385ba61354053a80fe47893762d83",
            "82492b725fa1483da0c3f8dcb6122b9a",
            "52b8a19a0608481c88621d812590ae53",
            "f2f4702dba2b4a4890729f24cbcfc222",
            "bad2dc0852134bbf9d9616fb896db13b",
            "195f1a58663144ccb8fe483383550daa",
            "e796373aa7b94ced9d4bcfc04043eb37",
            "dbab88520c274148bed803c458d9eaa2",
            "0d4b9a542a084240b924e793b299cafc",
            "c4567795c46c4b809cb605170075d080",
            "bdd04a10d15545b39751de171078fa24",
            "7b9c7f60bc954e0ea5614c505f636b7a",
            "78b3e0b8e05f487788fe34fa655c31ce",
            "2d04ba86a5f748f7a046069e78520d20",
            "a25b06807bd7416db6a1d718f4a02fa2",
            "482b2c0c3bd9438faca010ae9ef75e02",
            "8e6d019e15be476894b413a1db7ed54e",
            "6fc94d1bf7834891a5f471397cb82e3d",
            "4c09e0dbbf5a410b864713c1e002e1bd",
            "2cf1d8aa26e24bafbb08dc0f80f30724",
            "01276bfcd05c444c9c0849624283bf1e",
            "2c6287cae395406b9038539355c25b72",
            "93a5c00886324ebeab283bb998027103",
            "a7d405bdf8754be0bd1729f77ab55119",
            "b8a3e7d21e514409b87e4a61a2051dd8",
            "ce45c595206444639997bad1607544dc",
            "d819960f9f9b45f3a5a2829b39024bc8",
            "60010c272da343c4ba7cac6a4d61a12e",
            "325e2d6e1f2f4dbd892ba7c31d8ac121",
            "9681eb8b7c224b598ea95496d36a91a4",
            "dca72e7a4bf34baebb3ef5f51274ee7a"
          ]
        },
        "id": "6wRuRn08zVO9",
        "outputId": "5139f2ba-6a19-446b-b888-cbdc438ccc30"
      },
      "outputs": [
        {
          "output_type": "stream",
          "name": "stdout",
          "text": [
            "Downloading http://fashion-mnist.s3-website.eu-central-1.amazonaws.com/train-images-idx3-ubyte.gz\n",
            "Downloading http://fashion-mnist.s3-website.eu-central-1.amazonaws.com/train-images-idx3-ubyte.gz to classifier_data/FashionMNIST/raw/train-images-idx3-ubyte.gz\n"
          ]
        },
        {
          "output_type": "display_data",
          "data": {
            "text/plain": [
              "  0%|          | 0/26421880 [00:00<?, ?it/s]"
            ],
            "application/vnd.jupyter.widget-view+json": {
              "version_major": 2,
              "version_minor": 0,
              "model_id": "79a9ec72fa0c4c7dbdf91bf95688f6be"
            }
          },
          "metadata": {}
        },
        {
          "output_type": "stream",
          "name": "stdout",
          "text": [
            "Extracting classifier_data/FashionMNIST/raw/train-images-idx3-ubyte.gz to classifier_data/FashionMNIST/raw\n",
            "\n",
            "Downloading http://fashion-mnist.s3-website.eu-central-1.amazonaws.com/train-labels-idx1-ubyte.gz\n",
            "Downloading http://fashion-mnist.s3-website.eu-central-1.amazonaws.com/train-labels-idx1-ubyte.gz to classifier_data/FashionMNIST/raw/train-labels-idx1-ubyte.gz\n"
          ]
        },
        {
          "output_type": "display_data",
          "data": {
            "text/plain": [
              "  0%|          | 0/29515 [00:00<?, ?it/s]"
            ],
            "application/vnd.jupyter.widget-view+json": {
              "version_major": 2,
              "version_minor": 0,
              "model_id": "7272fdff8379443188d722811d79b054"
            }
          },
          "metadata": {}
        },
        {
          "output_type": "stream",
          "name": "stdout",
          "text": [
            "Extracting classifier_data/FashionMNIST/raw/train-labels-idx1-ubyte.gz to classifier_data/FashionMNIST/raw\n",
            "\n",
            "Downloading http://fashion-mnist.s3-website.eu-central-1.amazonaws.com/t10k-images-idx3-ubyte.gz\n",
            "Downloading http://fashion-mnist.s3-website.eu-central-1.amazonaws.com/t10k-images-idx3-ubyte.gz to classifier_data/FashionMNIST/raw/t10k-images-idx3-ubyte.gz\n"
          ]
        },
        {
          "output_type": "display_data",
          "data": {
            "text/plain": [
              "  0%|          | 0/4422102 [00:00<?, ?it/s]"
            ],
            "application/vnd.jupyter.widget-view+json": {
              "version_major": 2,
              "version_minor": 0,
              "model_id": "c4567795c46c4b809cb605170075d080"
            }
          },
          "metadata": {}
        },
        {
          "output_type": "stream",
          "name": "stdout",
          "text": [
            "Extracting classifier_data/FashionMNIST/raw/t10k-images-idx3-ubyte.gz to classifier_data/FashionMNIST/raw\n",
            "\n",
            "Downloading http://fashion-mnist.s3-website.eu-central-1.amazonaws.com/t10k-labels-idx1-ubyte.gz\n",
            "Downloading http://fashion-mnist.s3-website.eu-central-1.amazonaws.com/t10k-labels-idx1-ubyte.gz to classifier_data/FashionMNIST/raw/t10k-labels-idx1-ubyte.gz\n"
          ]
        },
        {
          "output_type": "display_data",
          "data": {
            "text/plain": [
              "  0%|          | 0/5148 [00:00<?, ?it/s]"
            ],
            "application/vnd.jupyter.widget-view+json": {
              "version_major": 2,
              "version_minor": 0,
              "model_id": "01276bfcd05c444c9c0849624283bf1e"
            }
          },
          "metadata": {}
        },
        {
          "output_type": "stream",
          "name": "stdout",
          "text": [
            "Extracting classifier_data/FashionMNIST/raw/t10k-labels-idx1-ubyte.gz to classifier_data/FashionMNIST/raw\n",
            "\n"
          ]
        }
      ],
      "source": [
        "train_dataset = torchvision.datasets.FashionMNIST('classifier_data', train=True, download=True,transform=transform)\n",
        "test_dataset  = torchvision.datasets.FashionMNIST('classifier_data', train=False, download=True,transform=transform)"
      ]
    },
    {
      "cell_type": "code",
      "execution_count": null,
      "metadata": {
        "id": "8A3Wku7p0chS"
      },
      "outputs": [],
      "source": [
        "fashion_class={\n",
        "    0:\"T-shirt/top\",\n",
        "    1:\"Trouser\",\n",
        "    2:\"Pullover\",\n",
        "    3:\"Dress\",\n",
        "    4:\"Coat\",\n",
        "    5:\"Sandal\",\n",
        "    6:\"Shirt\",\n",
        "    7:\"Sneaker\",\n",
        "    8:\"Bag\",\n",
        "    9:\"Ankle boot\"\n",
        "}"
      ]
    },
    {
      "cell_type": "markdown",
      "metadata": {
        "id": "0ytk8XEyz8Lm"
      },
      "source": [
        "## 'Vanilla' classification (FFNN)"
      ]
    },
    {
      "cell_type": "code",
      "execution_count": null,
      "metadata": {
        "colab": {
          "base_uri": "https://localhost:8080/"
        },
        "outputId": "99719cda-45eb-44e1-8b9c-656dc3f53f98",
        "id": "geVSnuF-Lgr8"
      },
      "outputs": [
        {
          "output_type": "stream",
          "name": "stdout",
          "text": [
            "Elements in Train set: 48000\n",
            "Elements in Validation set: 12000\n",
            "Elements in Test set: 10000\n"
          ]
        }
      ],
      "source": [
        "# Divide in training (80%) an validation (20%) dataset\n",
        "\n",
        "p = 0.8\n",
        "n_train = int(len(train_dataset)*p) \n",
        "n_valid = len(train_dataset) - n_train\n",
        "\n",
        "print(\"Elements in Train set:\",      n_train)\n",
        "print(\"Elements in Validation set:\", n_valid)\n",
        "print(\"Elements in Test set:\",       len(test_dataset) )\n",
        "\n",
        "# Prepare Training and Validation sets\n",
        "train_dataset_v, validation_dataset_v = torch.utils.data.random_split(train_dataset, [n_train, n_valid])"
      ]
    },
    {
      "cell_type": "code",
      "execution_count": null,
      "metadata": {
        "colab": {
          "base_uri": "https://localhost:8080/"
        },
        "outputId": "056b8dbf-b70f-4d9f-e771-7dd6cb2ff16d",
        "id": "Z1lXnw_bLgr-"
      },
      "outputs": [
        {
          "output_type": "stream",
          "name": "stdout",
          "text": [
            "TRAIN BATCH SHAPE\n",
            "\t Data: torch.Size([256, 1, 28, 28])\n",
            "\t Labels: torch.Size([256])\n",
            "TRAIN BATCH SHAPE\n",
            "\t Data: torch.Size([256, 1, 28, 28])\n",
            "\t Labels: torch.Size([256])\n",
            "TEST BATCH SHAPE\n",
            "\t Data: torch.Size([100, 1, 28, 28])\n",
            "\t Labels: torch.Size([100])\n"
          ]
        }
      ],
      "source": [
        "### Define train dataloader\n",
        "train_dataloader = DataLoader(train_dataset_v, batch_size=256, shuffle=True)\n",
        "### Define validation dataloader\n",
        "validation_dataloader = DataLoader(validation_dataset_v, batch_size=256, shuffle=False)\n",
        "### Define test dataloader\n",
        "test_dataloader = DataLoader(test_dataset, batch_size=100, shuffle=False)\n",
        "\n",
        "batch_data, batch_labels = next(iter(train_dataloader))\n",
        "print(f\"TRAIN BATCH SHAPE\")\n",
        "print(f\"\\t Data: {batch_data.shape}\")\n",
        "print(f\"\\t Labels: {batch_labels.shape}\")\n",
        "\n",
        "batch_data, batch_labels = next(iter(validation_dataloader))\n",
        "print(f\"TRAIN BATCH SHAPE\")\n",
        "print(f\"\\t Data: {batch_data.shape}\")\n",
        "print(f\"\\t Labels: {batch_labels.shape}\")\n",
        "\n",
        "batch_data, batch_labels = next(iter(test_dataloader))\n",
        "print(f\"TEST BATCH SHAPE\")\n",
        "print(f\"\\t Data: {batch_data.shape}\")\n",
        "print(f\"\\t Labels: {batch_labels.shape}\")"
      ]
    },
    {
      "cell_type": "code",
      "execution_count": null,
      "metadata": {
        "id": "Lx2l8xLt0NII"
      },
      "outputs": [],
      "source": [
        "class NetClass(nn.Module):\n",
        "    \n",
        "    def __init__(self, Nh1, Nh2, activ, p_drop=0, Ni=784, No=10):\n",
        "\n",
        "        super().__init__()\n",
        "        \n",
        "        print('Network initialized')\n",
        "        self.fc1 = nn.Linear(in_features=Ni, out_features=Nh1, bias=True)\n",
        "        self.fc2 = nn.Linear(in_features=Nh1, out_features=Nh2, bias=True)\n",
        "        self.out = nn.Linear(in_features=Nh2, out_features=No)\n",
        "        self.act = activ\n",
        "        self.dropout = nn.Dropout(p_drop)\n",
        "        \n",
        "    def forward(self, x):\n",
        "        x = x.view(x.shape[0],-1)\n",
        "        x = self.act(self.fc1(x))\n",
        "        x = self.dropout(x)\n",
        "        x = self.act(self.fc2(x))\n",
        "        x = self.dropout(x)\n",
        "        x = self.out(x)\n",
        "        return x"
      ]
    },
    {
      "cell_type": "code",
      "execution_count": null,
      "metadata": {
        "id": "Ax3gcsUkLDJq"
      },
      "outputs": [],
      "source": [
        "parameters = {\n",
        "    'num_epochs': 20,\n",
        "    'activation': nn.ReLU(),\n",
        "    'dropout': 0.,\n",
        "    'nh1': 256,\n",
        "    'nh2': 128,\n",
        "    'loss_fn': nn.CrossEntropyLoss(),\n",
        "    'optimizer': 'Adam',\n",
        "    'lr': 1e-3,\n",
        "    'wd': 0.01\n",
        "    }\n"
      ]
    },
    {
      "cell_type": "code",
      "execution_count": null,
      "metadata": {
        "colab": {
          "base_uri": "https://localhost:8080/"
        },
        "outputId": "9265447a-7b98-47c6-93f4-f2b9434c0989",
        "id": "rCiUMiwDLDJt"
      },
      "outputs": [
        {
          "output_type": "stream",
          "name": "stdout",
          "text": [
            "Network initialized\n"
          ]
        },
        {
          "output_type": "stream",
          "name": "stderr",
          "text": [
            "100%|██████████| 20/20 [04:34<00:00, 13.74s/it]\n"
          ]
        }
      ],
      "source": [
        "#TRAINING with the same function as before\n",
        "training_loss, validation_loss = training(parameters,Net=NetClass, classification=True,\n",
        "                                          train_dataloader=train_dataloader,\n",
        "                                          validation_dataloader=validation_dataloader)"
      ]
    },
    {
      "cell_type": "code",
      "execution_count": null,
      "metadata": {
        "colab": {
          "base_uri": "https://localhost:8080/",
          "height": 388
        },
        "outputId": "a3f65a45-a008-4859-8c0a-860118bd16d3",
        "id": "gGJuJlcyNYu6"
      },
      "outputs": [
        {
          "output_type": "display_data",
          "data": {
            "text/plain": [
              "<Figure size 576x432 with 1 Axes>"
            ],
            "image/png": "[encoded data removed]"
          },
          "metadata": {
            "needs_background": "light"
          }
        }
      ],
      "source": [
        "# Plot losses\n",
        "fig = plt.figure(figsize=(8,6))\n",
        "plt.plot(training_loss, label='Train loss', color = '#5bc0de')\n",
        "plt.plot(validation_loss, label='Validation loss', color = '#428bca')\n",
        "\n",
        "plt.xlabel('Epoch')\n",
        "plt.ylabel('CrossEntropy Loss')\n",
        "plt.grid()\n",
        "plt.legend()\n",
        "plt.show()"
      ]
    },
    {
      "cell_type": "markdown",
      "source": [
        "### Test"
      ],
      "metadata": {
        "id": "Dj1qv7-YOzEG"
      }
    },
    {
      "cell_type": "code",
      "source": [
        "net_class = torch.load('net_class.pt')\n",
        "net_class"
      ],
      "metadata": {
        "colab": {
          "base_uri": "https://localhost:8080/"
        },
        "id": "I_s9JG5PQPMM",
        "outputId": "4e37d8aa-0efb-4f90-cd09-c9f8eb14884c"
      },
      "execution_count": null,
      "outputs": [
        {
          "output_type": "execute_result",
          "data": {
            "text/plain": [
              "NetClass(\n",
              "  (fc1): Linear(in_features=784, out_features=256, bias=True)\n",
              "  (fc2): Linear(in_features=256, out_features=128, bias=True)\n",
              "  (out): Linear(in_features=128, out_features=10, bias=True)\n",
              "  (act): ReLU()\n",
              "  (dropout): Dropout(p=0.0, inplace=False)\n",
              ")"
            ]
          },
          "metadata": {},
          "execution_count": 147
        }
      ]
    },
    {
      "cell_type": "code",
      "execution_count": null,
      "metadata": {
        "id": "eY0YPHq0zRuu"
      },
      "outputs": [],
      "source": [
        "def test(model):\n",
        "    criterion = nn.CrossEntropyLoss()\n",
        "    batch_size=100\n",
        "    correct=0\n",
        "    test_loss=0\n",
        "    class_correct = list(0. for i in range(10))\n",
        "    class_total = list(0. for i in range(10))\n",
        "\n",
        "    model.to(device)\n",
        "\n",
        "    model.eval()\n",
        "    \n",
        "    for images,labels in test_dataloader:\n",
        "        images,labels=images.to(device),labels.to(device)\n",
        "        output=model(images)\n",
        "        loss=criterion(output,labels)\n",
        "        test_loss+=loss.item()\n",
        "        _,pred=torch.max(output,1)\n",
        "        correct = np.squeeze(pred.eq(labels.data.view_as(pred)))\n",
        "\n",
        "        for i in range(batch_size):\n",
        "            label = labels.data[i]\n",
        "            class_correct[label] += correct[i].item()\n",
        "            class_total[label] += 1\n",
        "\n",
        "\n",
        "    test_loss=test_loss/len(test_dataloader)\n",
        "    print(f'For {type(model).__name__} :')\n",
        "    print(f\"Test Loss: {test_loss}\")\n",
        "    print(f\"Correctly predicted per class : {class_correct}, Total correctly perdicted : {sum(class_correct)}\")\n",
        "    print(f\"Total Predictions per class : {class_total}, Total predictions to be made : {sum(class_total)}\\n\")\n",
        "    for i in range(10):\n",
        "      if class_total[i] > 0:\n",
        "          print(f\"Test Accuracy of class {fashion_class[i]} : {float(100 * class_correct[i] / class_total[i])}% where {int(np.sum(class_correct[i]))} of {int(np.sum(class_total[i]))} were predicted correctly\")\n",
        "      else:\n",
        "          print('Test Accuracy of %5s: N/A (no training examples)' % (fashion_class[i]))\n",
        "\n",
        "    print(f\"\\nOverall Test Accuracy : {float(100. * np.sum(class_correct) / np.sum(class_total))}% where {int(np.sum(class_correct))} of {int(np.sum(class_total))} were predicted correctly\")\n",
        "    "
      ]
    },
    {
      "cell_type": "code",
      "source": [
        "test(net_class)"
      ],
      "metadata": {
        "colab": {
          "base_uri": "https://localhost:8080/"
        },
        "id": "HH9ohft_PPpe",
        "outputId": "6bfb640c-00b9-4060-db63-f3de9af4340f"
      },
      "execution_count": null,
      "outputs": [
        {
          "output_type": "stream",
          "name": "stdout",
          "text": [
            "For NetClass :\n",
            "Test Loss: 0.4375082874298096\n",
            "Correctly predicted per class : [763.0, 936.0, 830.0, 908.0, 695.0, 951.0, 614.0, 859.0, 947.0, 922.0], Total correctly perdicted : 8425.0\n",
            "Total Predictions per class : [1000.0, 1000.0, 1000.0, 1000.0, 1000.0, 1000.0, 1000.0, 1000.0, 1000.0, 1000.0], Total predictions to be made : 10000.0\n",
            "\n",
            "Test Accuracy of class T-shirt/top : 76.3% where 763 of 1000 were predicted correctly\n",
            "Test Accuracy of class Trouser : 93.6% where 936 of 1000 were predicted correctly\n",
            "Test Accuracy of class Pullover : 83.0% where 830 of 1000 were predicted correctly\n",
            "Test Accuracy of class Dress : 90.8% where 908 of 1000 were predicted correctly\n",
            "Test Accuracy of class Coat : 69.5% where 695 of 1000 were predicted correctly\n",
            "Test Accuracy of class Sandal : 95.1% where 951 of 1000 were predicted correctly\n",
            "Test Accuracy of class Shirt : 61.4% where 614 of 1000 were predicted correctly\n",
            "Test Accuracy of class Sneaker : 85.9% where 859 of 1000 were predicted correctly\n",
            "Test Accuracy of class Bag : 94.7% where 947 of 1000 were predicted correctly\n",
            "Test Accuracy of class Ankle boot : 92.2% where 922 of 1000 were predicted correctly\n",
            "\n",
            "Overall Test Accuracy : 84.25% where 8425 of 10000 were predicted correctly\n"
          ]
        }
      ]
    },
    {
      "cell_type": "markdown",
      "metadata": {
        "id": "ViZKKV08JwrD"
      },
      "source": [
        "## CNN\n",
        "\n",
        "Here I use SKORCH for training, parameters optimization, and testing."
      ]
    },
    {
      "cell_type": "code",
      "execution_count": null,
      "metadata": {
        "id": "hIPyipxpCOVr"
      },
      "outputs": [],
      "source": [
        "train_dataset_x = train_dataset.data.type(torch.float32).reshape(60000,1,28,28)\n",
        "train_dataset_label = train_dataset.targets.type(torch.int64).reshape(60000)\n",
        "test_dataset_x  = test_dataset.data.type(torch.float32).reshape(10000,1,28,28)\n",
        "test_dataset_label  = test_dataset.targets.type(torch.int64).reshape(10000)"
      ]
    },
    {
      "cell_type": "code",
      "execution_count": null,
      "metadata": {
        "id": "MOOz6Ld1A2-V"
      },
      "outputs": [],
      "source": [
        "class Net_conv(nn.Module):\n",
        "  def __init__(self, Nh1=256, Nh2=128, p_drop=0.2, activ=nn.ReLU(), No=10):\n",
        "\n",
        "    super(Net_conv,self).__init__()\n",
        "\n",
        "    self.conv1=nn.Conv2d(in_channels=1,out_channels=16,kernel_size=3,padding=1,stride=1)\n",
        "    self.conv2=nn.Conv2d(in_channels=16,out_channels=32,kernel_size=3,padding=1,stride=1)\n",
        "    self.pool=nn.MaxPool2d(kernel_size=2,stride=2)\n",
        "\n",
        "    self.fc1=nn.Linear(7*7*32,Nh1)\n",
        "    self.fc2=nn.Linear(Nh1,Nh2)\n",
        "    self.out=nn.Linear(Nh2,No)\n",
        "    self.act=activ\n",
        "    self.dropout=nn.Dropout(p_drop)\n",
        "\n",
        "  def forward(self,x):\n",
        "    x=self.act(self.pool(self.conv1(x)))\n",
        "    x=self.act(self.pool(self.dropout(self.conv2(x))))\n",
        "    x=x.view(-1,7*7*32)\n",
        "    x=self.dropout(x)\n",
        "    x=self.act(self.dropout(self.fc1(x)))\n",
        "    x=self.act(self.fc2(x))\n",
        "    x=torch.softmax(self.out(x), dim=-1)\n",
        "    return x"
      ]
    },
    {
      "cell_type": "code",
      "execution_count": null,
      "metadata": {
        "colab": {
          "base_uri": "https://localhost:8080/"
        },
        "id": "4JHU4JZJGxQo",
        "outputId": "ff6364af-f81a-4ca3-f156-b1c03c3bffa1"
      },
      "outputs": [
        {
          "output_type": "stream",
          "name": "stdout",
          "text": [
            "Training device: cpu\n"
          ]
        }
      ],
      "source": [
        "# Check if the GPU is available\n",
        "device = torch.device(\"cuda\") if torch.cuda.is_available() else torch.device(\"cpu\")\n",
        "print(f\"Training device: {device}\")"
      ]
    },
    {
      "cell_type": "code",
      "execution_count": null,
      "metadata": {
        "id": "O8VeyO1d23Vp"
      },
      "outputs": [],
      "source": [
        "\n",
        "torch.manual_seed(0)\n",
        "\n",
        "cnn = NeuralNetClassifier(\n",
        "    Net_conv,\n",
        "    max_epochs=10,\n",
        "    lr=0.002,\n",
        "    optimizer=torch.optim.Adam,\n",
        "    device=device\n",
        ")\n",
        "\n"
      ]
    },
    {
      "cell_type": "code",
      "execution_count": null,
      "metadata": {
        "colab": {
          "base_uri": "https://localhost:8080/"
        },
        "id": "_ATi615r23XX",
        "outputId": "61425187-8435-40de-aa0b-8da706c94e85"
      },
      "outputs": [
        {
          "output_type": "stream",
          "name": "stdout",
          "text": [
            "  epoch    train_loss    valid_acc    valid_loss      dur\n",
            "-------  ------------  -----------  ------------  -------\n",
            "      1        \u001b[36m0.7013\u001b[0m       \u001b[32m0.8478\u001b[0m        \u001b[35m0.4164\u001b[0m  27.2932\n",
            "      2        \u001b[36m0.4074\u001b[0m       \u001b[32m0.8760\u001b[0m        \u001b[35m0.3372\u001b[0m  27.4344\n",
            "      3        \u001b[36m0.3678\u001b[0m       \u001b[32m0.8798\u001b[0m        \u001b[35m0.3183\u001b[0m  28.7898\n",
            "      4        \u001b[36m0.3410\u001b[0m       \u001b[32m0.8863\u001b[0m        \u001b[35m0.3024\u001b[0m  28.4577\n",
            "      5        \u001b[36m0.3235\u001b[0m       \u001b[32m0.8981\u001b[0m        \u001b[35m0.2822\u001b[0m  28.6191\n",
            "      6        \u001b[36m0.3070\u001b[0m       \u001b[32m0.8984\u001b[0m        \u001b[35m0.2800\u001b[0m  29.5158\n",
            "      7        \u001b[36m0.2901\u001b[0m       \u001b[32m0.9008\u001b[0m        \u001b[35m0.2754\u001b[0m  28.2263\n",
            "      8        \u001b[36m0.2839\u001b[0m       \u001b[32m0.9070\u001b[0m        \u001b[35m0.2647\u001b[0m  28.6578\n",
            "      9        \u001b[36m0.2678\u001b[0m       \u001b[32m0.9073\u001b[0m        \u001b[35m0.2622\u001b[0m  27.9216\n",
            "     10        0.2713       0.8978        0.2847  27.8817\n"
          ]
        }
      ],
      "source": [
        "cnn.fit(train_dataset_x,train_dataset_label)"
      ]
    },
    {
      "cell_type": "code",
      "execution_count": null,
      "metadata": {
        "id": "s08quD42HErf"
      },
      "outputs": [],
      "source": [
        "y_pred_cnn = cnn.predict(test_dataset_x)"
      ]
    },
    {
      "cell_type": "code",
      "execution_count": null,
      "metadata": {
        "colab": {
          "base_uri": "https://localhost:8080/"
        },
        "id": "9KZaW4CMHErg",
        "outputId": "e3e9c599-0dae-4a6e-bea5-6a6226f8d4ea"
      },
      "outputs": [
        {
          "output_type": "execute_result",
          "data": {
            "text/plain": [
              "0.8934"
            ]
          },
          "metadata": {},
          "execution_count": 165
        }
      ],
      "source": [
        "#Accuracy test set\n",
        "accuracy_score(test_dataset_label, y_pred_cnn)"
      ]
    },
    {
      "cell_type": "markdown",
      "metadata": {
        "id": "rA4EZm03ioXQ"
      },
      "source": [
        "### Randomized Grid Search"
      ]
    },
    {
      "cell_type": "code",
      "execution_count": null,
      "metadata": {
        "id": "H-uLJBPjjAVB"
      },
      "outputs": [],
      "source": [
        "\n",
        "params = {\n",
        "    'lr': [0.01, 0.005, 0.001],\n",
        "    'batch_size': [128,256],\n",
        "    'optimizer': [torch.optim.Adam, torch.optim.SGD, torch.optim.RMSprop],\n",
        "    'optimizer__weight_decay': [0.05,0.01,0.005],\n",
        "    'module__p_drop': [0,0.2,0.4,0.6],\n",
        "    'module__Nh1': [64,128],\n",
        "    'module__Nh2': [64,128]\n",
        "    }\n",
        "\n",
        "\n",
        "cnn = NeuralNetClassifier(module = Net_conv,\n",
        "                          module__p_drop = 0.4,\n",
        "                          module__Nh1 = 128,\n",
        "                          module__Nh2 = 64,\n",
        "                          max_epochs = 10,\n",
        "                          batch_size = 128,\n",
        "                          lr = 0.002,\n",
        "                          optimizer = torch.optim.Adam,\n",
        "                          optimizer__weight_decay = 0.01,\n",
        "                          device = device,\n",
        "                          iterator_train__shuffle = True,\n",
        ")\n",
        "\n"
      ]
    },
    {
      "cell_type": "code",
      "execution_count": null,
      "metadata": {
        "colab": {
          "base_uri": "https://localhost:8080/"
        },
        "id": "yZ4ZJBin7OZL",
        "outputId": "a8b6f726-efe1-4fba-b395-d5805d976d43"
      },
      "outputs": [
        {
          "output_type": "stream",
          "name": "stdout",
          "text": [
            "  epoch    train_loss    valid_acc    valid_loss      dur\n",
            "-------  ------------  -----------  ------------  -------\n",
            "      1       \u001b[36m13.9121\u001b[0m       \u001b[32m0.1000\u001b[0m       \u001b[35m14.3481\u001b[0m  18.1319\n",
            "      2       \u001b[36m13.8702\u001b[0m       0.1000       14.3481  16.6389\n",
            "      3       \u001b[36m10.9809\u001b[0m       0.1000       14.3481  15.8800\n",
            "      4       \u001b[36m10.0230\u001b[0m       0.1000       14.3481  16.7152\n",
            "      5       \u001b[36m10.0204\u001b[0m       0.1000       14.3481  17.3737\n",
            "      6       \u001b[36m10.0095\u001b[0m       0.1000       14.3481  25.6314\n",
            "      7        \u001b[36m7.4808\u001b[0m       \u001b[32m0.4536\u001b[0m        \u001b[35m1.4404\u001b[0m  18.0969\n",
            "      8        \u001b[36m1.2326\u001b[0m       \u001b[32m0.6428\u001b[0m        \u001b[35m1.1374\u001b[0m  16.5413\n",
            "      9        \u001b[36m1.1089\u001b[0m       \u001b[32m0.6710\u001b[0m        \u001b[35m0.9913\u001b[0m  16.8487\n",
            "     10        \u001b[36m1.0672\u001b[0m       \u001b[32m0.6884\u001b[0m        \u001b[35m0.9591\u001b[0m  16.5773\n",
            "  epoch    train_loss    valid_acc    valid_loss      dur\n",
            "-------  ------------  -----------  ------------  -------\n",
            "      1        \u001b[36m1.5394\u001b[0m       \u001b[32m0.6920\u001b[0m        \u001b[35m0.9691\u001b[0m  16.2252\n",
            "      2        \u001b[36m0.9691\u001b[0m       \u001b[32m0.7569\u001b[0m        \u001b[35m0.8145\u001b[0m  16.7010\n",
            "      3        \u001b[36m0.8585\u001b[0m       0.7406        \u001b[35m0.7192\u001b[0m  16.0435\n",
            "      4        \u001b[36m0.8439\u001b[0m       \u001b[32m0.7899\u001b[0m        \u001b[35m0.6652\u001b[0m  15.8983\n",
            "      5        \u001b[36m0.8348\u001b[0m       0.7776        \u001b[35m0.6328\u001b[0m  15.7764\n",
            "      6        \u001b[36m0.8110\u001b[0m       \u001b[32m0.7913\u001b[0m        0.6959  17.3636\n",
            "      7        0.8312       0.7679        0.6526  16.8048\n",
            "      8        0.8299       0.7905        \u001b[35m0.6004\u001b[0m  16.6076\n",
            "      9        0.8235       0.7562        0.7085  17.0982\n",
            "     10        0.8393       0.7758        0.6739  23.7042\n",
            "  epoch    train_loss    valid_acc    valid_loss      dur\n",
            "-------  ------------  -----------  ------------  -------\n",
            "      1        \u001b[36m1.8197\u001b[0m       \u001b[32m0.6159\u001b[0m        \u001b[35m1.0362\u001b[0m  15.9060\n",
            "      2        \u001b[36m1.1079\u001b[0m       \u001b[32m0.6562\u001b[0m        \u001b[35m0.9625\u001b[0m  16.2215\n",
            "      3        \u001b[36m1.0495\u001b[0m       \u001b[32m0.6825\u001b[0m        \u001b[35m0.8741\u001b[0m  16.4339\n",
            "      4        \u001b[36m1.0220\u001b[0m       0.6803        \u001b[35m0.8727\u001b[0m  20.4170\n",
            "      5        \u001b[36m1.0081\u001b[0m       \u001b[32m0.7169\u001b[0m        0.8919  24.2773\n",
            "      6        1.0103       \u001b[32m0.7399\u001b[0m        \u001b[35m0.8300\u001b[0m  22.9749\n",
            "      7        \u001b[36m1.0022\u001b[0m       0.7030        0.8468  17.7889\n",
            "      8        \u001b[36m0.9732\u001b[0m       0.7238        \u001b[35m0.8089\u001b[0m  19.4082\n",
            "      9        \u001b[36m0.9634\u001b[0m       \u001b[32m0.7700\u001b[0m        \u001b[35m0.7392\u001b[0m  19.8050\n",
            "     10        \u001b[36m0.9551\u001b[0m       0.7261        0.8382  17.7257\n",
            "  epoch    train_loss    valid_acc    valid_loss      dur\n",
            "-------  ------------  -----------  ------------  -------\n",
            "      1        \u001b[36m5.2071\u001b[0m       \u001b[32m0.3481\u001b[0m        \u001b[35m1.9047\u001b[0m  25.6338\n",
            "      2        \u001b[36m1.2720\u001b[0m       \u001b[32m0.7096\u001b[0m        \u001b[35m0.7624\u001b[0m  19.5714\n",
            "      3        \u001b[36m0.8744\u001b[0m       \u001b[32m0.7320\u001b[0m        \u001b[35m0.6813\u001b[0m  20.3284\n",
            "      4        \u001b[36m0.8327\u001b[0m       \u001b[32m0.7642\u001b[0m        \u001b[35m0.6769\u001b[0m  22.4678\n",
            "      5        \u001b[36m0.8256\u001b[0m       0.7631        0.7306  28.1123\n",
            "      6        0.8326       \u001b[32m0.7861\u001b[0m        \u001b[35m0.6064\u001b[0m  41.4543\n",
            "      7        \u001b[36m0.7852\u001b[0m       0.7808        0.6248  30.3190\n",
            "      8        0.7904       0.7440        0.7057  29.7670\n",
            "      9        0.9179       0.7691        0.6501  34.5728\n",
            "     10        0.7974       0.7808        0.6797  36.4740\n",
            "  epoch    train_loss    valid_acc    valid_loss      dur\n",
            "-------  ------------  -----------  ------------  -------\n",
            "      1        \u001b[36m9.9340\u001b[0m       \u001b[32m0.5914\u001b[0m        \u001b[35m1.0979\u001b[0m  22.5566\n",
            "      2        \u001b[36m0.9593\u001b[0m       \u001b[32m0.7496\u001b[0m        \u001b[35m0.6454\u001b[0m  20.9259\n",
            "      3        0.9725       \u001b[32m0.7841\u001b[0m        0.6700  20.0933\n",
            "      4        \u001b[36m0.7937\u001b[0m       0.7560        \u001b[35m0.6261\u001b[0m  23.5294\n",
            "      5        \u001b[36m0.7719\u001b[0m       0.7755        \u001b[35m0.5979\u001b[0m  30.4145\n",
            "      6        0.8577       0.7255        0.8931  38.8302\n",
            "      7        0.7746       0.7806        0.6154  40.8227\n",
            "      8        1.2014       0.6819        0.8839  35.6454\n",
            "      9        0.8351       0.7641        0.6454  38.6322\n",
            "     10        0.9325       0.7658        0.6969  43.3102\n",
            "  epoch    train_loss    valid_acc    valid_loss      dur\n",
            "-------  ------------  -----------  ------------  -------\n",
            "      1        \u001b[36m4.6316\u001b[0m       \u001b[32m0.7115\u001b[0m        \u001b[35m0.8054\u001b[0m  18.4369\n",
            "      2        \u001b[36m0.8791\u001b[0m       \u001b[32m0.7359\u001b[0m        \u001b[35m0.6727\u001b[0m  18.5635\n",
            "      3        \u001b[36m0.7961\u001b[0m       \u001b[32m0.7812\u001b[0m        \u001b[35m0.6317\u001b[0m  19.5705\n",
            "      4        \u001b[36m0.7923\u001b[0m       0.7772        0.6780  21.8966\n",
            "      5        0.8160       \u001b[32m0.7935\u001b[0m        \u001b[35m0.5868\u001b[0m  21.2245\n",
            "      6        0.7971       0.7356        0.8040  24.2743\n",
            "      7        \u001b[36m0.7630\u001b[0m       0.7857        0.6371  24.7885\n",
            "      8        0.7864       0.7934        \u001b[35m0.5523\u001b[0m  31.6513\n",
            "      9        0.7680       0.7861        0.5779  41.6059\n",
            "     10        \u001b[36m0.7573\u001b[0m       0.7885        0.6782  43.1717\n",
            "  epoch    train_loss    valid_acc    valid_loss      dur\n",
            "-------  ------------  -----------  ------------  -------\n",
            "      1        \u001b[36m2.8851\u001b[0m       \u001b[32m0.3010\u001b[0m        \u001b[35m2.0322\u001b[0m  17.3282\n",
            "      2        \u001b[36m1.6887\u001b[0m       \u001b[32m0.5969\u001b[0m        \u001b[35m1.1734\u001b[0m  17.0705\n",
            "      3        \u001b[36m1.2019\u001b[0m       \u001b[32m0.6508\u001b[0m        \u001b[35m1.0137\u001b[0m  17.5861\n",
            "      4        \u001b[36m1.0360\u001b[0m       \u001b[32m0.6997\u001b[0m        \u001b[35m0.8890\u001b[0m  17.2448\n",
            "      5        \u001b[36m0.8892\u001b[0m       \u001b[32m0.7618\u001b[0m        \u001b[35m0.6979\u001b[0m  16.9973\n",
            "      6        \u001b[36m0.8178\u001b[0m       \u001b[32m0.7751\u001b[0m        0.7427  18.1670\n",
            "      7        \u001b[36m0.7787\u001b[0m       0.7418        \u001b[35m0.6362\u001b[0m  19.5492\n",
            "      8        \u001b[36m0.7537\u001b[0m       \u001b[32m0.7761\u001b[0m        0.6687  20.7650\n",
            "      9        0.7620       \u001b[32m0.7955\u001b[0m        0.6367  21.2899\n",
            "     10        \u001b[36m0.6997\u001b[0m       0.7456        0.6419  25.2369\n",
            "  epoch    train_loss    valid_acc    valid_loss      dur\n",
            "-------  ------------  -----------  ------------  -------\n",
            "      1        \u001b[36m5.9268\u001b[0m       \u001b[32m0.1000\u001b[0m        \u001b[35m2.3028\u001b[0m  19.2726\n",
            "      2        \u001b[36m2.3574\u001b[0m       0.1000        2.3028  21.4638\n",
            "      3        2.4381       0.1000        2.3029  26.1770\n",
            "      4        2.3845       0.1000        \u001b[35m2.3026\u001b[0m  20.4883\n",
            "      5        \u001b[36m1.9778\u001b[0m       \u001b[32m0.7030\u001b[0m        \u001b[35m0.9275\u001b[0m  18.1152\n",
            "      6        \u001b[36m0.9759\u001b[0m       \u001b[32m0.7710\u001b[0m        \u001b[35m0.7122\u001b[0m  21.3306\n",
            "      7        \u001b[36m0.8608\u001b[0m       \u001b[32m0.7810\u001b[0m        0.7308  23.1363\n",
            "      8        \u001b[36m0.8102\u001b[0m       \u001b[32m0.7925\u001b[0m        \u001b[35m0.6787\u001b[0m  25.3324\n",
            "      9        \u001b[36m0.7777\u001b[0m       0.7776        \u001b[35m0.6292\u001b[0m  30.4260\n",
            "     10        \u001b[36m0.7419\u001b[0m       0.7676        \u001b[35m0.6034\u001b[0m  36.6958\n",
            "  epoch    train_loss    valid_acc    valid_loss      dur\n",
            "-------  ------------  -----------  ------------  -------\n",
            "      1        \u001b[36m9.7738\u001b[0m       \u001b[32m0.1000\u001b[0m        \u001b[35m2.3035\u001b[0m  20.6909\n",
            "      2        \u001b[36m2.3487\u001b[0m       0.1000        \u001b[35m2.3027\u001b[0m  20.5810\n",
            "      3        2.4509       0.1000        2.3031  20.5046\n",
            "      4        \u001b[36m2.0075\u001b[0m       \u001b[32m0.6119\u001b[0m        \u001b[35m1.0483\u001b[0m  19.0362\n",
            "      5        \u001b[36m1.0459\u001b[0m       \u001b[32m0.7456\u001b[0m        \u001b[35m0.8193\u001b[0m  17.9566\n",
            "      6        1.0726       \u001b[32m0.7826\u001b[0m        0.8551  18.2271\n",
            "      7        \u001b[36m0.8353\u001b[0m       0.7160        \u001b[35m0.8032\u001b[0m  18.0365\n",
            "      8        \u001b[36m0.7648\u001b[0m       0.7676        \u001b[35m0.6399\u001b[0m  17.0176\n",
            "      9        \u001b[36m0.7425\u001b[0m       0.7741        0.6567  17.4149\n",
            "     10        \u001b[36m0.7346\u001b[0m       0.7730        \u001b[35m0.6256\u001b[0m  17.9707\n",
            "  epoch    train_loss    valid_acc    valid_loss      dur\n",
            "-------  ------------  -----------  ------------  -------\n",
            "      1        \u001b[36m1.4203\u001b[0m       \u001b[32m0.7245\u001b[0m        \u001b[35m0.8449\u001b[0m  17.1953\n",
            "      2        \u001b[36m0.9144\u001b[0m       \u001b[32m0.7659\u001b[0m        \u001b[35m0.7422\u001b[0m  17.7395\n",
            "      3        \u001b[36m0.8148\u001b[0m       \u001b[32m0.7772\u001b[0m        \u001b[35m0.6690\u001b[0m  16.3104\n",
            "      4        \u001b[36m0.7587\u001b[0m       \u001b[32m0.7880\u001b[0m        \u001b[35m0.6487\u001b[0m  16.2013\n",
            "      5        \u001b[36m0.7232\u001b[0m       \u001b[32m0.8011\u001b[0m        \u001b[35m0.6090\u001b[0m  17.4092\n",
            "      6        \u001b[36m0.6974\u001b[0m       \u001b[32m0.8129\u001b[0m        \u001b[35m0.5962\u001b[0m  16.7216\n",
            "      7        \u001b[36m0.6787\u001b[0m       \u001b[32m0.8229\u001b[0m        \u001b[35m0.5928\u001b[0m  17.1806\n",
            "      8        \u001b[36m0.6657\u001b[0m       0.7906        0.6067  17.1096\n",
            "      9        \u001b[36m0.6464\u001b[0m       0.8160        \u001b[35m0.5681\u001b[0m  16.7142\n",
            "     10        \u001b[36m0.6370\u001b[0m       \u001b[32m0.8293\u001b[0m        0.5765  16.5487\n",
            "  epoch    train_loss    valid_acc    valid_loss      dur\n",
            "-------  ------------  -----------  ------------  -------\n",
            "      1        \u001b[36m1.4705\u001b[0m       \u001b[32m0.7464\u001b[0m        \u001b[35m0.8690\u001b[0m  16.6042\n",
            "      2        \u001b[36m0.9363\u001b[0m       \u001b[32m0.7772\u001b[0m        \u001b[35m0.7377\u001b[0m  16.8998\n",
            "      3        \u001b[36m0.8230\u001b[0m       \u001b[32m0.7921\u001b[0m        \u001b[35m0.6607\u001b[0m  16.8191\n",
            "      4        \u001b[36m0.7601\u001b[0m       \u001b[32m0.7971\u001b[0m        0.6658  17.3443\n",
            "      5        \u001b[36m0.7254\u001b[0m       \u001b[32m0.8033\u001b[0m        \u001b[35m0.6392\u001b[0m  16.7547\n",
            "      6        \u001b[36m0.7016\u001b[0m       0.8000        \u001b[35m0.6013\u001b[0m  17.0860\n",
            "      7        \u001b[36m0.6836\u001b[0m       \u001b[32m0.8110\u001b[0m        \u001b[35m0.5834\u001b[0m  17.8638\n",
            "      8        \u001b[36m0.6656\u001b[0m       0.7830        0.5941  17.6342\n",
            "      9        \u001b[36m0.6542\u001b[0m       0.8017        0.5884  17.1590\n",
            "     10        \u001b[36m0.6472\u001b[0m       0.7823        0.5945  17.0956\n",
            "  epoch    train_loss    valid_acc    valid_loss      dur\n",
            "-------  ------------  -----------  ------------  -------\n",
            "      1        \u001b[36m1.6172\u001b[0m       \u001b[32m0.6331\u001b[0m        \u001b[35m0.9925\u001b[0m  17.4120\n",
            "      2        \u001b[36m1.0521\u001b[0m       \u001b[32m0.7174\u001b[0m        \u001b[35m0.8318\u001b[0m  16.8858\n",
            "      3        \u001b[36m0.8942\u001b[0m       \u001b[32m0.7901\u001b[0m        \u001b[35m0.7176\u001b[0m  17.0597\n",
            "      4        \u001b[36m0.8082\u001b[0m       0.7784        \u001b[35m0.6567\u001b[0m  16.6277\n",
            "      5        \u001b[36m0.7580\u001b[0m       \u001b[32m0.8096\u001b[0m        \u001b[35m0.6135\u001b[0m  16.4140\n",
            "      6        \u001b[36m0.7286\u001b[0m       0.7994        \u001b[35m0.5965\u001b[0m  17.1471\n",
            "      7        \u001b[36m0.6987\u001b[0m       \u001b[32m0.8146\u001b[0m        \u001b[35m0.5718\u001b[0m  17.6333\n",
            "      8        \u001b[36m0.6803\u001b[0m       \u001b[32m0.8179\u001b[0m        \u001b[35m0.5652\u001b[0m  16.6325\n",
            "      9        \u001b[36m0.6679\u001b[0m       0.8105        \u001b[35m0.5638\u001b[0m  16.8408\n",
            "     10        \u001b[36m0.6561\u001b[0m       \u001b[32m0.8207\u001b[0m        \u001b[35m0.5551\u001b[0m  17.1458\n",
            "  epoch    train_loss    valid_acc    valid_loss      dur\n",
            "-------  ------------  -----------  ------------  -------\n",
            "      1        \u001b[36m0.6713\u001b[0m       \u001b[32m0.8337\u001b[0m        \u001b[35m0.4890\u001b[0m  15.5479\n",
            "      2        \u001b[36m0.4631\u001b[0m       \u001b[32m0.8609\u001b[0m        \u001b[35m0.4055\u001b[0m  16.6213\n",
            "      3        \u001b[36m0.4397\u001b[0m       0.8526        0.4308  15.2314\n",
            "      4        \u001b[36m0.4365\u001b[0m       0.8542        0.4219  15.7549\n",
            "      5        \u001b[36m0.4302\u001b[0m       0.8489        0.4382  15.3174\n",
            "      6        0.4328       0.8410        0.4418  15.8296\n",
            "      7        \u001b[36m0.4241\u001b[0m       0.8526        0.4104  16.2375\n",
            "      8        0.4248       0.8566        0.4056  16.1212\n",
            "      9        0.4299       0.8439        0.4301  16.3725\n",
            "     10        \u001b[36m0.4195\u001b[0m       0.8325        0.4455  16.6601\n",
            "  epoch    train_loss    valid_acc    valid_loss      dur\n",
            "-------  ------------  -----------  ------------  -------\n",
            "      1        \u001b[36m0.7398\u001b[0m       \u001b[32m0.8335\u001b[0m        \u001b[35m0.4781\u001b[0m  15.3699\n",
            "      2        \u001b[36m0.4675\u001b[0m       0.8215        0.4847  15.6834\n",
            "      3        \u001b[36m0.4600\u001b[0m       \u001b[32m0.8363\u001b[0m        \u001b[35m0.4587\u001b[0m  16.7104\n",
            "      4        \u001b[36m0.4470\u001b[0m       0.8226        0.4877  16.3247\n",
            "      5        0.4543       0.8324        \u001b[35m0.4577\u001b[0m  16.4666\n",
            "      6        \u001b[36m0.4434\u001b[0m       \u001b[32m0.8375\u001b[0m        \u001b[35m0.4552\u001b[0m  16.7001\n",
            "      7        \u001b[36m0.4392\u001b[0m       \u001b[32m0.8536\u001b[0m        \u001b[35m0.4226\u001b[0m  16.9024\n",
            "      8        \u001b[36m0.4367\u001b[0m       0.8325        0.4758  17.9946\n",
            "      9        \u001b[36m0.4320\u001b[0m       0.8426        0.4431  15.3827\n",
            "     10        0.4335       0.8439        0.4280  16.5228\n",
            "  epoch    train_loss    valid_acc    valid_loss      dur\n",
            "-------  ------------  -----------  ------------  -------\n",
            "      1        \u001b[36m0.8904\u001b[0m       \u001b[32m0.8176\u001b[0m        \u001b[35m0.4934\u001b[0m  15.9385\n",
            "      2        \u001b[36m0.4793\u001b[0m       \u001b[32m0.8364\u001b[0m        \u001b[35m0.4523\u001b[0m  15.4561\n",
            "      3        \u001b[36m0.4627\u001b[0m       0.8337        0.4551  15.9171\n",
            "      4        \u001b[36m0.4597\u001b[0m       0.8333        0.4557  15.5107\n",
            "      5        \u001b[36m0.4449\u001b[0m       \u001b[32m0.8406\u001b[0m        \u001b[35m0.4325\u001b[0m  16.0377\n",
            "      6        0.4488       \u001b[32m0.8439\u001b[0m        0.4337  15.7258\n",
            "      7        0.4514       0.8356        0.4528  17.6657\n",
            "      8        \u001b[36m0.4433\u001b[0m       0.8297        0.4536  19.0138\n",
            "      9        0.4437       0.8407        0.4408  21.9993\n",
            "     10        \u001b[36m0.4406\u001b[0m       0.8381        0.4423  19.0264\n",
            "  epoch    train_loss    valid_acc    valid_loss      dur\n",
            "-------  ------------  -----------  ------------  -------\n",
            "      1       \u001b[36m14.3112\u001b[0m       \u001b[32m0.1000\u001b[0m       \u001b[35m14.3481\u001b[0m  29.9743\n",
            "      2        \u001b[36m6.3463\u001b[0m       \u001b[32m0.7721\u001b[0m        \u001b[35m0.5916\u001b[0m  21.1914\n",
            "      3        \u001b[36m0.5065\u001b[0m       \u001b[32m0.8254\u001b[0m        \u001b[35m0.4618\u001b[0m  15.5182\n",
            "      4        \u001b[36m0.4175\u001b[0m       \u001b[32m0.8682\u001b[0m        \u001b[35m0.3728\u001b[0m  15.7779\n",
            "      5        \u001b[36m0.3738\u001b[0m       \u001b[32m0.8695\u001b[0m        \u001b[35m0.3562\u001b[0m  16.1360\n",
            "      6        \u001b[36m0.3451\u001b[0m       \u001b[32m0.8810\u001b[0m        \u001b[35m0.3344\u001b[0m  15.9838\n",
            "      7        \u001b[36m0.3290\u001b[0m       0.8709        0.3499  16.0913\n",
            "      8        \u001b[36m0.3137\u001b[0m       \u001b[32m0.8912\u001b[0m        \u001b[35m0.3067\u001b[0m  15.6315\n",
            "      9        \u001b[36m0.3001\u001b[0m       0.8806        0.3291  16.3562\n",
            "     10        \u001b[36m0.2896\u001b[0m       0.8801        0.3241  15.6413\n",
            "  epoch    train_loss    valid_acc    valid_loss      dur\n",
            "-------  ------------  -----------  ------------  -------\n",
            "      1        \u001b[36m0.7690\u001b[0m       \u001b[32m0.8353\u001b[0m        \u001b[35m0.4483\u001b[0m  16.7281\n",
            "      2        \u001b[36m0.4255\u001b[0m       \u001b[32m0.8664\u001b[0m        \u001b[35m0.3831\u001b[0m  16.4103\n",
            "      3        \u001b[36m0.3651\u001b[0m       \u001b[32m0.8692\u001b[0m        \u001b[35m0.3560\u001b[0m  15.2934\n",
            "      4        \u001b[36m0.3317\u001b[0m       \u001b[32m0.8695\u001b[0m        0.3593  15.1902\n",
            "      5        \u001b[36m0.3079\u001b[0m       \u001b[32m0.8891\u001b[0m        \u001b[35m0.3089\u001b[0m  16.1518\n",
            "      6        \u001b[36m0.2875\u001b[0m       0.8842        0.3237  16.2745\n",
            "      7        \u001b[36m0.2724\u001b[0m       0.8865        0.3157  16.1673\n",
            "      8        \u001b[36m0.2607\u001b[0m       \u001b[32m0.8995\u001b[0m        \u001b[35m0.2868\u001b[0m  15.9976\n",
            "      9        \u001b[36m0.2506\u001b[0m       0.8955        \u001b[35m0.2825\u001b[0m  15.9424\n",
            "     10        \u001b[36m0.2389\u001b[0m       0.8966        \u001b[35m0.2813\u001b[0m  15.7725\n",
            "  epoch    train_loss    valid_acc    valid_loss      dur\n",
            "-------  ------------  -----------  ------------  -------\n",
            "      1        \u001b[36m0.6941\u001b[0m       \u001b[32m0.8155\u001b[0m        \u001b[35m0.4859\u001b[0m  16.0290\n",
            "      2        \u001b[36m0.3999\u001b[0m       \u001b[32m0.8752\u001b[0m        \u001b[35m0.3535\u001b[0m  16.2149\n",
            "      3        \u001b[36m0.3442\u001b[0m       \u001b[32m0.8805\u001b[0m        \u001b[35m0.3367\u001b[0m  16.2348\n",
            "      4        \u001b[36m0.3143\u001b[0m       \u001b[32m0.8895\u001b[0m        \u001b[35m0.3155\u001b[0m  15.9001\n",
            "      5        \u001b[36m0.2917\u001b[0m       0.8720        0.3629  16.2532\n",
            "      6        \u001b[36m0.2690\u001b[0m       0.8859        \u001b[35m0.3035\u001b[0m  15.5232\n",
            "      7        \u001b[36m0.2582\u001b[0m       0.8746        0.3428  16.0395\n",
            "      8        \u001b[36m0.2438\u001b[0m       0.8881        0.3134  16.2245\n",
            "      9        \u001b[36m0.2292\u001b[0m       \u001b[32m0.9025\u001b[0m        \u001b[35m0.2748\u001b[0m  15.9802\n",
            "     10        \u001b[36m0.2202\u001b[0m       \u001b[32m0.9029\u001b[0m        \u001b[35m0.2709\u001b[0m  15.4793\n",
            "  epoch    train_loss    valid_acc    valid_loss      dur\n",
            "-------  ------------  -----------  ------------  -------\n",
            "      1        \u001b[36m1.0636\u001b[0m       \u001b[32m0.7945\u001b[0m        \u001b[35m0.5189\u001b[0m  17.7957\n",
            "      2        \u001b[36m0.5714\u001b[0m       \u001b[32m0.8347\u001b[0m        \u001b[35m0.5112\u001b[0m  18.3909\n",
            "      3        \u001b[36m0.5461\u001b[0m       0.7900        0.5944  18.7171\n",
            "      4        \u001b[36m0.5306\u001b[0m       \u001b[32m0.8414\u001b[0m        \u001b[35m0.4664\u001b[0m  17.2505\n",
            "      5        \u001b[36m0.5267\u001b[0m       \u001b[32m0.8575\u001b[0m        \u001b[35m0.4408\u001b[0m  18.0132\n",
            "      6        \u001b[36m0.5190\u001b[0m       0.8334        0.4920  18.7480\n",
            "      7        0.5268       0.8360        0.4644  20.4793\n",
            "      8        \u001b[36m0.5142\u001b[0m       0.8413        \u001b[35m0.4369\u001b[0m  18.8134\n",
            "      9        0.5177       0.8505        \u001b[35m0.4332\u001b[0m  24.7712\n",
            "     10        0.5167       0.8354        0.4525  27.9230\n",
            "  epoch    train_loss    valid_acc    valid_loss      dur\n",
            "-------  ------------  -----------  ------------  -------\n",
            "      1        \u001b[36m1.2363\u001b[0m       \u001b[32m0.8215\u001b[0m        \u001b[35m0.5239\u001b[0m  18.2564\n",
            "      2        \u001b[36m0.5792\u001b[0m       0.8171        \u001b[35m0.4948\u001b[0m  18.2215\n",
            "      3        \u001b[36m0.5518\u001b[0m       0.7796        0.6635  17.6076\n",
            "      4        \u001b[36m0.5458\u001b[0m       \u001b[32m0.8469\u001b[0m        \u001b[35m0.4645\u001b[0m  19.9044\n",
            "      5        \u001b[36m0.5344\u001b[0m       \u001b[32m0.8559\u001b[0m        \u001b[35m0.4310\u001b[0m  22.4373\n",
            "      6        \u001b[36m0.5297\u001b[0m       0.8361        0.4446  34.0270\n",
            "      7        \u001b[36m0.5252\u001b[0m       0.8405        0.4461  36.4730\n",
            "      8        0.5264       0.8486        0.4765  45.7824\n",
            "      9        \u001b[36m0.5133\u001b[0m       \u001b[32m0.8624\u001b[0m        \u001b[35m0.4266\u001b[0m  52.0763\n",
            "     10        \u001b[36m0.5118\u001b[0m       0.8441        0.4823  57.2369\n",
            "  epoch    train_loss    valid_acc    valid_loss      dur\n",
            "-------  ------------  -----------  ------------  -------\n",
            "      1        \u001b[36m1.0298\u001b[0m       \u001b[32m0.8376\u001b[0m        \u001b[35m0.5131\u001b[0m  18.2324\n",
            "      2        \u001b[36m0.5821\u001b[0m       \u001b[32m0.8429\u001b[0m        \u001b[35m0.4471\u001b[0m  18.4919\n",
            "      3        \u001b[36m0.5592\u001b[0m       0.8354        0.4877  18.9969\n",
            "      4        \u001b[36m0.5439\u001b[0m       0.8365        0.4817  18.0366\n",
            "      5        \u001b[36m0.5253\u001b[0m       \u001b[32m0.8626\u001b[0m        \u001b[35m0.4195\u001b[0m  18.0418\n",
            "      6        \u001b[36m0.5217\u001b[0m       0.8599        0.4578  17.5154\n",
            "      7        \u001b[36m0.5179\u001b[0m       0.8237        0.4920  18.6519\n",
            "      8        \u001b[36m0.5157\u001b[0m       0.8549        \u001b[35m0.3982\u001b[0m  19.7426\n",
            "      9        \u001b[36m0.5093\u001b[0m       0.8516        0.4753  18.5220\n",
            "     10        0.5115       0.8230        0.5004  19.9318\n",
            "  epoch    train_loss    valid_acc    valid_loss      dur\n",
            "-------  ------------  -----------  ------------  -------\n",
            "      1       \u001b[36m14.3192\u001b[0m       \u001b[32m0.1000\u001b[0m       \u001b[35m14.3481\u001b[0m  33.7024\n",
            "      2        \u001b[36m8.3565\u001b[0m       \u001b[32m0.4685\u001b[0m        \u001b[35m1.2706\u001b[0m  25.8095\n",
            "      3        \u001b[36m1.0386\u001b[0m       \u001b[32m0.7851\u001b[0m        \u001b[35m0.6179\u001b[0m  21.6095\n",
            "      4        \u001b[36m0.7398\u001b[0m       \u001b[32m0.7907\u001b[0m        \u001b[35m0.5903\u001b[0m  23.8511\n",
            "      5        \u001b[36m0.7110\u001b[0m       \u001b[32m0.8101\u001b[0m        \u001b[35m0.5789\u001b[0m  25.1286\n",
            "      6        \u001b[36m0.6863\u001b[0m       \u001b[32m0.8249\u001b[0m        \u001b[35m0.5414\u001b[0m  27.5190\n",
            "      7        \u001b[36m0.6699\u001b[0m       \u001b[32m0.8289\u001b[0m        \u001b[35m0.5396\u001b[0m  32.6750\n",
            "      8        \u001b[36m0.6681\u001b[0m       0.8221        0.5662  39.3852\n",
            "      9        \u001b[36m0.6614\u001b[0m       0.8233        \u001b[35m0.5264\u001b[0m  45.7701\n",
            "     10        0.6622       0.8234        0.5696  45.7464\n",
            "  epoch    train_loss    valid_acc    valid_loss      dur\n",
            "-------  ------------  -----------  ------------  -------\n",
            "      1       \u001b[36m14.3302\u001b[0m       \u001b[32m0.1000\u001b[0m       \u001b[35m14.3481\u001b[0m  36.4857\n",
            "      2       14.3384       0.1000       14.3481  30.6175\n",
            "      3        \u001b[36m8.4848\u001b[0m       \u001b[32m0.7324\u001b[0m        \u001b[35m0.7365\u001b[0m  27.1990\n",
            "      4        \u001b[36m0.7913\u001b[0m       \u001b[32m0.8071\u001b[0m        \u001b[35m0.5995\u001b[0m  28.0026\n",
            "      5        \u001b[36m0.7296\u001b[0m       0.7940        0.6194  31.6495\n",
            "      6        \u001b[36m0.6988\u001b[0m       \u001b[32m0.8079\u001b[0m        \u001b[35m0.5636\u001b[0m  38.0404\n",
            "      7        \u001b[36m0.6873\u001b[0m       \u001b[32m0.8103\u001b[0m        0.5853  39.4044\n",
            "      8        \u001b[36m0.6826\u001b[0m       \u001b[32m0.8211\u001b[0m        \u001b[35m0.5290\u001b[0m  35.9891\n",
            "      9        0.6858       0.8056        0.5613  36.1662\n",
            "     10        \u001b[36m0.6793\u001b[0m       0.8036        0.5878  36.3158\n",
            "  epoch    train_loss    valid_acc    valid_loss      dur\n",
            "-------  ------------  -----------  ------------  -------\n",
            "      1       \u001b[36m14.3389\u001b[0m       \u001b[32m0.1000\u001b[0m       \u001b[35m14.3481\u001b[0m  38.3899\n",
            "      2        \u001b[36m9.0687\u001b[0m       \u001b[32m0.7185\u001b[0m        \u001b[35m0.7721\u001b[0m  28.8147\n",
            "      3        \u001b[36m0.8075\u001b[0m       \u001b[32m0.7891\u001b[0m        \u001b[35m0.6298\u001b[0m  20.0996\n",
            "      4        \u001b[36m0.7519\u001b[0m       \u001b[32m0.8074\u001b[0m        \u001b[35m0.5761\u001b[0m  23.3833\n",
            "      5        \u001b[36m0.7288\u001b[0m       \u001b[32m0.8135\u001b[0m        0.5994  28.4650\n",
            "      6        \u001b[36m0.7163\u001b[0m       \u001b[32m0.8259\u001b[0m        0.5777  34.8495\n",
            "      7        \u001b[36m0.7062\u001b[0m       0.8091        \u001b[35m0.5409\u001b[0m  36.6667\n",
            "      8        \u001b[36m0.7006\u001b[0m       0.8163        0.5553  36.2323\n",
            "      9        \u001b[36m0.6840\u001b[0m       0.7752        0.6021  36.0892\n",
            "     10        0.7512       0.7880        0.5604  35.8696\n",
            "  epoch    train_loss    valid_acc    valid_loss      dur\n",
            "-------  ------------  -----------  ------------  -------\n",
            "      1        \u001b[36m1.1332\u001b[0m       \u001b[32m0.7679\u001b[0m        \u001b[35m0.6826\u001b[0m  17.7626\n",
            "      2        \u001b[36m0.7419\u001b[0m       \u001b[32m0.7996\u001b[0m        \u001b[35m0.5811\u001b[0m  18.2462\n",
            "      3        \u001b[36m0.6535\u001b[0m       \u001b[32m0.8126\u001b[0m        \u001b[35m0.5376\u001b[0m  17.5193\n",
            "      4        \u001b[36m0.6089\u001b[0m       \u001b[32m0.8247\u001b[0m        \u001b[35m0.5062\u001b[0m  18.3892\n",
            "      5        \u001b[36m0.5764\u001b[0m       \u001b[32m0.8346\u001b[0m        \u001b[35m0.4865\u001b[0m  17.7605\n",
            "      6        \u001b[36m0.5513\u001b[0m       \u001b[32m0.8426\u001b[0m        \u001b[35m0.4673\u001b[0m  18.5237\n",
            "      7        \u001b[36m0.5320\u001b[0m       \u001b[32m0.8476\u001b[0m        \u001b[35m0.4519\u001b[0m  17.7516\n",
            "      8        \u001b[36m0.5160\u001b[0m       \u001b[32m0.8488\u001b[0m        \u001b[35m0.4420\u001b[0m  18.0088\n",
            "      9        \u001b[36m0.5025\u001b[0m       \u001b[32m0.8529\u001b[0m        \u001b[35m0.4269\u001b[0m  18.3206\n",
            "     10        \u001b[36m0.4883\u001b[0m       \u001b[32m0.8565\u001b[0m        \u001b[35m0.4164\u001b[0m  18.2134\n",
            "  epoch    train_loss    valid_acc    valid_loss      dur\n",
            "-------  ------------  -----------  ------------  -------\n",
            "      1        \u001b[36m1.0992\u001b[0m       \u001b[32m0.7951\u001b[0m        \u001b[35m0.6270\u001b[0m  18.1398\n",
            "      2        \u001b[36m0.7200\u001b[0m       \u001b[32m0.8064\u001b[0m        \u001b[35m0.5529\u001b[0m  17.8213\n",
            "      3        \u001b[36m0.6409\u001b[0m       \u001b[32m0.8267\u001b[0m        \u001b[35m0.5117\u001b[0m  17.8961\n",
            "      4        \u001b[36m0.5954\u001b[0m       \u001b[32m0.8320\u001b[0m        \u001b[35m0.4869\u001b[0m  17.5224\n",
            "      5        \u001b[36m0.5661\u001b[0m       \u001b[32m0.8404\u001b[0m        \u001b[35m0.4670\u001b[0m  17.6235\n",
            "      6        \u001b[36m0.5438\u001b[0m       \u001b[32m0.8433\u001b[0m        \u001b[35m0.4522\u001b[0m  17.8817\n",
            "      7        \u001b[36m0.5297\u001b[0m       \u001b[32m0.8452\u001b[0m        \u001b[35m0.4450\u001b[0m  18.0415\n",
            "      8        \u001b[36m0.5140\u001b[0m       \u001b[32m0.8515\u001b[0m        \u001b[35m0.4291\u001b[0m  17.2746\n",
            "      9        \u001b[36m0.5023\u001b[0m       \u001b[32m0.8525\u001b[0m        \u001b[35m0.4270\u001b[0m  17.9737\n",
            "     10        \u001b[36m0.4911\u001b[0m       \u001b[32m0.8562\u001b[0m        \u001b[35m0.4174\u001b[0m  17.8126\n",
            "  epoch    train_loss    valid_acc    valid_loss      dur\n",
            "-------  ------------  -----------  ------------  -------\n",
            "      1        \u001b[36m1.0893\u001b[0m       \u001b[32m0.7826\u001b[0m        \u001b[35m0.6366\u001b[0m  17.2685\n",
            "      2        \u001b[36m0.7215\u001b[0m       \u001b[32m0.8025\u001b[0m        \u001b[35m0.5605\u001b[0m  17.3750\n",
            "      3        \u001b[36m0.6377\u001b[0m       \u001b[32m0.8256\u001b[0m        \u001b[35m0.5090\u001b[0m  17.4556\n",
            "      4        \u001b[36m0.5932\u001b[0m       \u001b[32m0.8295\u001b[0m        \u001b[35m0.4830\u001b[0m  17.9382\n",
            "      5        \u001b[36m0.5565\u001b[0m       \u001b[32m0.8416\u001b[0m        \u001b[35m0.4644\u001b[0m  17.9122\n",
            "      6        \u001b[36m0.5316\u001b[0m       \u001b[32m0.8451\u001b[0m        \u001b[35m0.4485\u001b[0m  17.8946\n",
            "      7        \u001b[36m0.5160\u001b[0m       \u001b[32m0.8509\u001b[0m        \u001b[35m0.4359\u001b[0m  18.1276\n",
            "      8        \u001b[36m0.5003\u001b[0m       \u001b[32m0.8548\u001b[0m        \u001b[35m0.4259\u001b[0m  17.3024\n",
            "      9        \u001b[36m0.4853\u001b[0m       \u001b[32m0.8555\u001b[0m        \u001b[35m0.4155\u001b[0m  17.8723\n",
            "     10        \u001b[36m0.4800\u001b[0m       \u001b[32m0.8600\u001b[0m        \u001b[35m0.4122\u001b[0m  17.6207\n",
            "  epoch    train_loss    valid_acc    valid_loss      dur\n",
            "-------  ------------  -----------  ------------  -------\n",
            "      1        \u001b[36m1.0922\u001b[0m       \u001b[32m0.7629\u001b[0m        \u001b[35m0.6486\u001b[0m  17.2251\n",
            "      2        \u001b[36m0.6918\u001b[0m       \u001b[32m0.7939\u001b[0m        \u001b[35m0.5585\u001b[0m  17.6452\n",
            "      3        \u001b[36m0.6257\u001b[0m       \u001b[32m0.8235\u001b[0m        \u001b[35m0.5187\u001b[0m  17.4440\n",
            "      4        \u001b[36m0.5772\u001b[0m       \u001b[32m0.8324\u001b[0m        \u001b[35m0.4878\u001b[0m  17.7312\n",
            "      5        \u001b[36m0.5499\u001b[0m       \u001b[32m0.8521\u001b[0m        \u001b[35m0.4811\u001b[0m  17.4714\n",
            "      6        \u001b[36m0.5306\u001b[0m       0.8476        \u001b[35m0.4613\u001b[0m  17.6777\n",
            "      7        \u001b[36m0.5094\u001b[0m       \u001b[32m0.8566\u001b[0m        \u001b[35m0.4386\u001b[0m  17.4171\n",
            "      8        \u001b[36m0.5000\u001b[0m       \u001b[32m0.8645\u001b[0m        0.4412  17.7998\n",
            "      9        \u001b[36m0.4862\u001b[0m       0.8612        \u001b[35m0.4297\u001b[0m  17.7283\n",
            "     10        \u001b[36m0.4744\u001b[0m       \u001b[32m0.8659\u001b[0m        \u001b[35m0.4152\u001b[0m  17.8454\n",
            "  epoch    train_loss    valid_acc    valid_loss      dur\n",
            "-------  ------------  -----------  ------------  -------\n",
            "      1        \u001b[36m1.0082\u001b[0m       \u001b[32m0.7925\u001b[0m        \u001b[35m0.6134\u001b[0m  17.4139\n",
            "      2        \u001b[36m0.6784\u001b[0m       \u001b[32m0.8127\u001b[0m        \u001b[35m0.5505\u001b[0m  17.7899\n",
            "      3        \u001b[36m0.6147\u001b[0m       \u001b[32m0.8226\u001b[0m        \u001b[35m0.5132\u001b[0m  18.0394\n",
            "      4        \u001b[36m0.5772\u001b[0m       \u001b[32m0.8354\u001b[0m        \u001b[35m0.4879\u001b[0m  17.6710\n",
            "      5        \u001b[36m0.5473\u001b[0m       \u001b[32m0.8406\u001b[0m        \u001b[35m0.4702\u001b[0m  17.8078\n",
            "      6        \u001b[36m0.5259\u001b[0m       \u001b[32m0.8419\u001b[0m        \u001b[35m0.4659\u001b[0m  17.5362\n",
            "      7        \u001b[36m0.5155\u001b[0m       \u001b[32m0.8501\u001b[0m        \u001b[35m0.4428\u001b[0m  17.8414\n",
            "      8        \u001b[36m0.4977\u001b[0m       \u001b[32m0.8514\u001b[0m        \u001b[35m0.4380\u001b[0m  18.1600\n",
            "      9        \u001b[36m0.4872\u001b[0m       \u001b[32m0.8545\u001b[0m        \u001b[35m0.4259\u001b[0m  17.8890\n",
            "     10        \u001b[36m0.4750\u001b[0m       \u001b[32m0.8578\u001b[0m        \u001b[35m0.4186\u001b[0m  17.7062\n",
            "  epoch    train_loss    valid_acc    valid_loss      dur\n",
            "-------  ------------  -----------  ------------  -------\n",
            "      1        \u001b[36m1.0805\u001b[0m       \u001b[32m0.7921\u001b[0m        \u001b[35m0.6333\u001b[0m  17.8593\n",
            "      2        \u001b[36m0.7022\u001b[0m       0.7860        \u001b[35m0.5583\u001b[0m  17.9138\n",
            "      3        \u001b[36m0.6223\u001b[0m       \u001b[32m0.8229\u001b[0m        \u001b[35m0.5104\u001b[0m  17.5728\n",
            "      4        \u001b[36m0.5848\u001b[0m       \u001b[32m0.8414\u001b[0m        \u001b[35m0.4975\u001b[0m  17.9967\n",
            "      5        \u001b[36m0.5498\u001b[0m       \u001b[32m0.8425\u001b[0m        \u001b[35m0.4703\u001b[0m  18.0733\n",
            "      6        \u001b[36m0.5331\u001b[0m       \u001b[32m0.8512\u001b[0m        \u001b[35m0.4490\u001b[0m  18.1956\n",
            "      7        \u001b[36m0.5099\u001b[0m       0.8489        \u001b[35m0.4474\u001b[0m  17.8525\n",
            "      8        \u001b[36m0.5010\u001b[0m       \u001b[32m0.8566\u001b[0m        \u001b[35m0.4275\u001b[0m  17.6118\n",
            "      9        \u001b[36m0.4860\u001b[0m       \u001b[32m0.8575\u001b[0m        \u001b[35m0.4235\u001b[0m  17.4700\n",
            "     10        \u001b[36m0.4749\u001b[0m       0.8559        \u001b[35m0.4208\u001b[0m  17.6556\n"
          ]
        },
        {
          "output_type": "execute_result",
          "data": {
            "text/plain": [
              "RandomizedSearchCV(cv=3,\n",
              "                   estimator=<class 'skorch.classifier.NeuralNetClassifier'>[uninitialized](\n",
              "  module=<class '__main__.Net_conv'>,\n",
              "  module__Nh1=128,\n",
              "  module__Nh2=64,\n",
              "  module__p_drop=0.4,\n",
              "),\n",
              "                   param_distributions={'batch_size': [128, 256],\n",
              "                                        'lr': [0.01, 0.005, 0.001],\n",
              "                                        'module__Nh1': [64, 128],\n",
              "                                        'module__Nh2': [64, 128],\n",
              "                                        'module__p_drop': [0, 0.2, 0.4, 0.6],\n",
              "                                        'optimizer': [<class 'torch.optim.adam.Adam'>,\n",
              "                                                      <class 'torch.optim.sgd.SGD'>,\n",
              "                                                      <class 'torch.optim.rmsprop.RMSprop'>],\n",
              "                                        'optimizer__weight_decay': [0.05, 0.01,\n",
              "                                                                    0.005]},\n",
              "                   refit=False, scoring='accuracy')"
            ]
          },
          "metadata": {},
          "execution_count": 167
        }
      ],
      "source": [
        "gs = RandomizedSearchCV(cnn, params, refit=False, cv=3, scoring='accuracy', n_iter=10)\n",
        "\n",
        "gs.fit(train_dataset_x, train_dataset_label)"
      ]
    },
    {
      "cell_type": "code",
      "execution_count": null,
      "metadata": {
        "colab": {
          "base_uri": "https://localhost:8080/"
        },
        "id": "PjhTwBUvI7na",
        "outputId": "738b221a-a52f-4285-b075-47376080e6d6"
      },
      "outputs": [
        {
          "output_type": "execute_result",
          "data": {
            "text/plain": [
              "{'batch_size': 128,\n",
              " 'lr': 0.01,\n",
              " 'module__Nh1': 64,\n",
              " 'module__Nh2': 128,\n",
              " 'module__p_drop': 0,\n",
              " 'optimizer': torch.optim.sgd.SGD,\n",
              " 'optimizer__weight_decay': 0.005}"
            ]
          },
          "metadata": {},
          "execution_count": 168
        }
      ],
      "source": [
        "gs.best_params_"
      ]
    },
    {
      "cell_type": "markdown",
      "source": [
        "### Training best parameters"
      ],
      "metadata": {
        "id": "WHnj87hvyhvo"
      }
    },
    {
      "cell_type": "code",
      "execution_count": null,
      "metadata": {
        "id": "4Lj8POKGB8eL"
      },
      "outputs": [],
      "source": [
        "cnn_best = NeuralNetClassifier(batch_size = 128,\n",
        "                               lr = 0.01,\n",
        "                               module__Nh1 = 64,\n",
        "                               module__Nh2 = 128,\n",
        "                               module__p_drop = 0,\n",
        "                               optimizer = torch.optim.SGD,\n",
        "                               optimizer__weight_decay = 0.005,\n",
        "                               module = Net_conv,\n",
        "                               max_epochs = 30,\n",
        "                               device = device,\n",
        "                               iterator_train__shuffle = True,\n",
        ")"
      ]
    },
    {
      "cell_type": "markdown",
      "metadata": {
        "id": "lJ57fOC__qSl"
      },
      "source": [
        "Now I re-train with those parameters, and test"
      ]
    },
    {
      "cell_type": "code",
      "execution_count": null,
      "metadata": {
        "colab": {
          "base_uri": "https://localhost:8080/"
        },
        "id": "YmPnCNfv58RB",
        "outputId": "b78967fe-05a1-40ef-fefc-8f4e44347a30"
      },
      "outputs": [
        {
          "output_type": "stream",
          "name": "stdout",
          "text": [
            "  epoch    train_loss    valid_acc    valid_loss      dur\n",
            "-------  ------------  -----------  ------------  -------\n",
            "      1        \u001b[36m0.5784\u001b[0m       \u001b[32m0.8213\u001b[0m        \u001b[35m0.4754\u001b[0m  25.3166\n",
            "      2        \u001b[36m0.3594\u001b[0m       \u001b[32m0.8778\u001b[0m        \u001b[35m0.3428\u001b[0m  24.4743\n",
            "      3        \u001b[36m0.3148\u001b[0m       \u001b[32m0.8845\u001b[0m        \u001b[35m0.3175\u001b[0m  23.9981\n",
            "      4        \u001b[36m0.2851\u001b[0m       \u001b[32m0.8971\u001b[0m        \u001b[35m0.2867\u001b[0m  24.5397\n",
            "      5        \u001b[36m0.2692\u001b[0m       0.8904        0.3023  23.9007\n",
            "      6        \u001b[36m0.2539\u001b[0m       \u001b[32m0.9022\u001b[0m        \u001b[35m0.2718\u001b[0m  23.8772\n",
            "      7        \u001b[36m0.2392\u001b[0m       0.8960        0.2757  25.9512\n",
            "      8        \u001b[36m0.2310\u001b[0m       \u001b[32m0.9054\u001b[0m        \u001b[35m0.2583\u001b[0m  24.2884\n",
            "      9        \u001b[36m0.2197\u001b[0m       \u001b[32m0.9061\u001b[0m        0.2605  23.6943\n",
            "     10        \u001b[36m0.2131\u001b[0m       \u001b[32m0.9085\u001b[0m        \u001b[35m0.2515\u001b[0m  25.7526\n",
            "     11        \u001b[36m0.2061\u001b[0m       0.9049        0.2610  24.3108\n",
            "     12        \u001b[36m0.1979\u001b[0m       0.9033        0.2652  23.1802\n",
            "     13        \u001b[36m0.1920\u001b[0m       0.8975        0.2770  23.1564\n",
            "     14        \u001b[36m0.1841\u001b[0m       \u001b[32m0.9117\u001b[0m        \u001b[35m0.2433\u001b[0m  22.9847\n",
            "     15        \u001b[36m0.1788\u001b[0m       \u001b[32m0.9172\u001b[0m        \u001b[35m0.2379\u001b[0m  23.0982\n",
            "     16        \u001b[36m0.1746\u001b[0m       0.9153        0.2391  22.9418\n",
            "     17        \u001b[36m0.1697\u001b[0m       0.9083        0.2605  22.9647\n",
            "     18        \u001b[36m0.1613\u001b[0m       0.9156        0.2457  23.4542\n",
            "     19        \u001b[36m0.1584\u001b[0m       0.9130        0.2479  23.9033\n",
            "     20        \u001b[36m0.1549\u001b[0m       0.9133        0.2430  25.0385\n",
            "     21        \u001b[36m0.1498\u001b[0m       0.9128        0.2432  23.8325\n",
            "     22        \u001b[36m0.1449\u001b[0m       0.9144        0.2516  26.0040\n",
            "     23        \u001b[36m0.1409\u001b[0m       0.9125        0.2568  24.0520\n",
            "     24        \u001b[36m0.1388\u001b[0m       0.9163        0.2440  25.8214\n",
            "     25        \u001b[36m0.1359\u001b[0m       0.9163        0.2509  23.7462\n",
            "     26        \u001b[36m0.1297\u001b[0m       0.9092        0.2665  23.0902\n",
            "     27        0.1308       0.9103        0.2626  23.1654\n",
            "     28        \u001b[36m0.1234\u001b[0m       0.9045        0.2794  23.2640\n",
            "     29        \u001b[36m0.1191\u001b[0m       0.9161        0.2481  23.5023\n",
            "     30        \u001b[36m0.1171\u001b[0m       0.9117        0.2562  23.0539\n"
          ]
        },
        {
          "output_type": "execute_result",
          "data": {
            "text/plain": [
              "<class 'skorch.classifier.NeuralNetClassifier'>[initialized](\n",
              "  module_=Net_conv(\n",
              "    (conv1): Conv2d(1, 16, kernel_size=(3, 3), stride=(1, 1), padding=(1, 1))\n",
              "    (conv2): Conv2d(16, 32, kernel_size=(3, 3), stride=(1, 1), padding=(1, 1))\n",
              "    (pool): MaxPool2d(kernel_size=2, stride=2, padding=0, dilation=1, ceil_mode=False)\n",
              "    (fc1): Linear(in_features=1568, out_features=64, bias=True)\n",
              "    (fc2): Linear(in_features=64, out_features=128, bias=True)\n",
              "    (out): Linear(in_features=128, out_features=10, bias=True)\n",
              "    (act): ReLU()\n",
              "    (dropout): Dropout(p=0, inplace=False)\n",
              "  ),\n",
              ")"
            ]
          },
          "metadata": {},
          "execution_count": 170
        }
      ],
      "source": [
        "cnn_best.fit(train_dataset_x,train_dataset_label)"
      ]
    },
    {
      "cell_type": "markdown",
      "metadata": {
        "id": "AGW7m6DuK9LU"
      },
      "source": [
        "### Test\n",
        "\n"
      ]
    },
    {
      "cell_type": "code",
      "execution_count": null,
      "metadata": {
        "id": "tzvIXqiILWTB"
      },
      "outputs": [],
      "source": [
        "y_pred_cnn = cnn_best.predict(test_dataset_x)"
      ]
    },
    {
      "cell_type": "code",
      "execution_count": null,
      "metadata": {
        "colab": {
          "base_uri": "https://localhost:8080/"
        },
        "id": "dpD7opEFLWTC",
        "outputId": "317fc205-307c-497c-f77d-0ee4f9ad78b4"
      },
      "outputs": [
        {
          "output_type": "execute_result",
          "data": {
            "text/plain": [
              "0.9049"
            ]
          },
          "metadata": {},
          "execution_count": 172
        }
      ],
      "source": [
        "accuracy_score(test_dataset_label, y_pred_cnn)"
      ]
    },
    {
      "cell_type": "code",
      "execution_count": null,
      "metadata": {
        "colab": {
          "base_uri": "https://localhost:8080/",
          "height": 279
        },
        "id": "wGtAQRZlYARK",
        "outputId": "8d48d5e3-04b9-439a-8530-0e023f7fc061"
      },
      "outputs": [
        {
          "output_type": "display_data",
          "data": {
            "text/plain": [
              "<Figure size 432x288 with 2 Axes>"
            ],
            "image/png": "[encoded data removed]"
          },
          "metadata": {
            "needs_background": "light"
          }
        }
      ],
      "source": [
        "\n",
        "cm = confusion_matrix(test_dataset_label, y_pred_cnn)\n",
        "\n",
        "ConfusionMatrixDisplay(cm).plot()\n",
        "plt.show()"
      ]
    },
    {
      "cell_type": "markdown",
      "metadata": {
        "id": "sp90HlIxrXal"
      },
      "source": [
        "## Weights"
      ]
    },
    {
      "cell_type": "code",
      "source": [
        "# First hidden layer\n",
        "conv1_w = cnn_best.module_.conv1.weight.data.cpu().numpy()\n",
        "conv2_w = cnn_best.module_.conv2.weight.data.cpu().numpy()\n",
        "\n",
        "fig, ax = plt.subplots(1,16, figsize=(18, 3))\n",
        "\n",
        "for i in range(16):\n",
        "    ax[i].imshow(conv1_w[i, 0, :, :], cmap='Greys')\n",
        "    ax[i].set_xticks([])\n",
        "    ax[i].set_yticks([])\n",
        "    \n",
        "fig.suptitle('Filters - Conv1 ', fontsize = 12)\n",
        "plt.show()"
      ],
      "metadata": {
        "colab": {
          "base_uri": "https://localhost:8080/",
          "height": 184
        },
        "id": "K4Gy2TgCzJ2P",
        "outputId": "9a7b0cff-5164-4f7f-c835-365b4e2690b2"
      },
      "execution_count": null,
      "outputs": [
        {
          "output_type": "display_data",
          "data": {
            "text/plain": [
              "<Figure size 1296x216 with 16 Axes>"
            ],
            "image/png": "[encoded data removed]"
          },
          "metadata": {}
        }
      ]
    },
    {
      "cell_type": "code",
      "source": [
        "fig, ax = plt.subplots(16, 32, figsize=(16, 7))\n",
        "\n",
        "for i in range(16):\n",
        "    for j in range(32):\n",
        "        ax[i,j].imshow( conv2_w[j, i, :,:], cmap='Greys')\n",
        "        ax[i,j].set_xticks([])\n",
        "        ax[i,j].set_yticks([])\n",
        "    \n",
        "fig.suptitle('Filters - Conv2 ', fontsize = 12)\n",
        "plt.savefig('filters_CL1_2.png')\n",
        "plt.show()"
      ],
      "metadata": {
        "colab": {
          "base_uri": "https://localhost:8080/",
          "height": 485
        },
        "id": "AHee1p9U06N3",
        "outputId": "19dc24da-b1cb-4823-bd1f-eeb83e5fc6ce"
      },
      "execution_count": null,
      "outputs": [
        {
          "output_type": "display_data",
          "data": {
            "text/plain": [
              "<Figure size 1152x504 with 512 Axes>"
            ],
            "image/png": "[encoded data removed]"
          },
          "metadata": {}
        }
      ]
    },
    {
      "cell_type": "code",
      "execution_count": null,
      "metadata": {
        "id": "TbTcXdlSrX5r"
      },
      "outputs": [],
      "source": [
        "# First convolutional layer\n",
        "c1_w = cnn_best.module_.conv1.weight.data.cpu().numpy()\n",
        "c1_b = cnn_best.module_.conv1.bias.data.cpu().numpy()\n",
        "\n",
        "# Second convolutional layer\n",
        "c2_w = cnn_best.module_.conv2.weight.data.cpu().numpy()\n",
        "c2_b = cnn_best.module_.conv2.bias.data.cpu().numpy()\n",
        "\n",
        "# First hidden layer\n",
        "h1_w = cnn_best.module_.fc1.weight.data.cpu().numpy()\n",
        "h1_b = cnn_best.module_.fc1.bias.data.cpu().numpy()\n",
        "\n",
        "# Second hidden layer\n",
        "h2_w = cnn_best.module_.fc2.weight.data.cpu().numpy()\n",
        "h2_b = cnn_best.module_.fc2.bias.data.cpu().numpy()\n",
        "\n",
        "# Output layer\n",
        "out_w = cnn_best.module_.out.weight.data.cpu().numpy()\n",
        "out_b = cnn_best.module_.out.bias.data.cpu().numpy()"
      ]
    },
    {
      "cell_type": "code",
      "execution_count": null,
      "metadata": {
        "id": "32tostnCrX5s",
        "colab": {
          "base_uri": "https://localhost:8080/",
          "height": 729
        },
        "outputId": "893b321f-35f3-4661-b591-fa42f5cfe794"
      },
      "outputs": [
        {
          "output_type": "display_data",
          "data": {
            "text/plain": [
              "<Figure size 576x720 with 5 Axes>"
            ],
            "image/png": "[encoded data removed]"
          },
          "metadata": {
            "needs_background": "light"
          }
        }
      ],
      "source": [
        "# Weights histogram\n",
        "fig, axs = plt.subplots(5, 1, figsize=(8,10))\n",
        "axs[0].hist(c1_w.flatten(), 50)\n",
        "axs[0].set_title('First convolutional layer weights')\n",
        "axs[1].hist(c2_w.flatten(), 50)\n",
        "axs[1].set_title('Second convolutional layer weights')\n",
        "axs[2].hist(h1_w.flatten(), 50)\n",
        "axs[2].set_title('First hidden layer weights')\n",
        "axs[3].hist(h2_w.flatten(), 50)\n",
        "axs[3].set_title('Second hidden layer weights')\n",
        "axs[4].hist(out_w.flatten(), 50)\n",
        "axs[4].set_title('Output layer weights')\n",
        "\n",
        "plt.tight_layout()\n",
        "plt.show()"
      ]
    },
    {
      "cell_type": "markdown",
      "metadata": {
        "id": "8HP-a7l3o8Fw"
      },
      "source": [
        "## Activation profiles\n",
        "\n"
      ]
    },
    {
      "cell_type": "code",
      "execution_count": null,
      "metadata": {
        "id": "hEmaK5zeu59Q"
      },
      "outputs": [],
      "source": [
        "activation = {}\n",
        "def getActivation(name):\n",
        "  def hook(model, input, output):\n",
        "    activation[name] = output.detach()\n",
        "  return hook"
      ]
    },
    {
      "cell_type": "code",
      "execution_count": null,
      "metadata": {
        "colab": {
          "base_uri": "https://localhost:8080/",
          "height": 183
        },
        "id": "mAt9S-W7I3lH",
        "outputId": "7268b19f-33eb-41d5-fe74-3745e836590c"
      },
      "outputs": [
        {
          "output_type": "display_data",
          "data": {
            "text/plain": [
              "<Figure size 720x216 with 16 Axes>"
            ],
            "image/png": "[encoded data removed]"
          },
          "metadata": {}
        }
      ],
      "source": [
        "conv1 = cnn_best.module_.conv1.register_forward_hook(getActivation('conv1'))\n",
        "\n",
        "x = train_dataset[1][0].cpu().unsqueeze(0).to(device)\n",
        "layers = [cnn_best.module_.conv1, nn.ReLU()]\n",
        "\n",
        "for layer in layers:\n",
        "    x = layer(x)\n",
        "    \n",
        "out_conv1 = x.squeeze(0).cpu().detach().numpy()\n",
        "\n",
        "fig, ax = plt.subplots(2,8, figsize=(10, 3))\n",
        "j=0\n",
        "for a, filt in enumerate(out_conv1):\n",
        "    if a<8:\n",
        "        ax[0][a].grid(False)\n",
        "        ax[0][a].imshow(filt, cmap='Greys')\n",
        "        ax[0][a].set_xticks([])\n",
        "        ax[0][a].set_yticks([])\n",
        "        ax[0][a].spines['bottom'].set_color('0.5')\n",
        "        ax[0][a].spines['top'].set_color('0.5')\n",
        "        ax[0][a].spines['right'].set_color('0.5')\n",
        "        ax[0][a].spines['left'].set_color('0.5')\n",
        "    else: \n",
        "        ax[1][a-8].grid(False)\n",
        "        ax[1][a-8].imshow(filt, cmap='Greys')\n",
        "        ax[1][a-8].set_xticks([])\n",
        "        ax[1][a-8].set_yticks([])\n",
        "        ax[1][a-8].spines['bottom'].set_color('0.5')\n",
        "        ax[1][a-8].spines['top'].set_color('0.5')\n",
        "        ax[1][a-8].spines['right'].set_color('0.5')\n",
        "        ax[1][a-8].spines['left'].set_color('0.5')\n",
        "\n",
        "conv1.remove()"
      ]
    }
  ],
  "metadata": {
    "accelerator": "GPU",
    "colab": {
      "collapsed_sections": [],
      "name": "HW1_Elena_Leonelli.ipynb",
      "toc_visible": true,
      "provenance": []
    },
    "kernelspec": {
      "display_name": "Python 3",
      "language": "python",
      "name": "python3"
    },
    "language_info": {
      "codemirror_mode": {
        "name": "ipython",
        "version": 3
      },
      "file_extension": ".py",
      "mimetype": "text/x-python",
      "name": "python",
      "nbconvert_exporter": "python",
      "pygments_lexer": "ipython3",
      "version": "3.7.1"
    },
    "widgets": {
      "application/vnd.jupyter.widget-state+json": {
        "79a9ec72fa0c4c7dbdf91bf95688f6be": {
          "model_module": "@jupyter-widgets/controls",
          "model_name": "HBoxModel",
          "model_module_version": "1.5.0",
          "state": {
            "_dom_classes": [],
            "_model_module": "@jupyter-widgets/controls",
            "_model_module_version": "1.5.0",
            "_model_name": "HBoxModel",
            "_view_count": null,
            "_view_module": "@jupyter-widgets/controls",
            "_view_module_version": "1.5.0",
            "_view_name": "HBoxView",
            "box_style": "",
            "children": [
              "IPY_MODEL_d5fa66ed39ad471d964ab0b0b7074630",
              "IPY_MODEL_cad8b36d8ad445d991da9c26b5ba1fd3",
              "IPY_MODEL_4b8d9e26c42a4f43968bdffd9a180396"
            ],
            "layout": "IPY_MODEL_2173099e394e4cdfbfe9c55d57eeb302"
          }
        },
        "d5fa66ed39ad471d964ab0b0b7074630": {
          "model_module": "@jupyter-widgets/controls",
          "model_name": "HTMLModel",
          "model_module_version": "1.5.0",
          "state": {
            "_dom_classes": [],
            "_model_module": "@jupyter-widgets/controls",
            "_model_module_version": "1.5.0",
            "_model_name": "HTMLModel",
            "_view_count": null,
            "_view_module": "@jupyter-widgets/controls",
            "_view_module_version": "1.5.0",
            "_view_name": "HTMLView",
            "description": "",
            "description_tooltip": null,
            "layout": "IPY_MODEL_6d4273faa8934f7d9aafe339bcd2c2eb",
            "placeholder": "​",
            "style": "IPY_MODEL_80cba733407f4156abca2d8c78c66378",
            "value": ""
          }
        },
        "cad8b36d8ad445d991da9c26b5ba1fd3": {
          "model_module": "@jupyter-widgets/controls",
          "model_name": "FloatProgressModel",
          "model_module_version": "1.5.0",
          "state": {
            "_dom_classes": [],
            "_model_module": "@jupyter-widgets/controls",
            "_model_module_version": "1.5.0",
            "_model_name": "FloatProgressModel",
            "_view_count": null,
            "_view_module": "@jupyter-widgets/controls",
            "_view_module_version": "1.5.0",
            "_view_name": "ProgressView",
            "bar_style": "success",
            "description": "",
            "description_tooltip": null,
            "layout": "IPY_MODEL_7ba2a4c93422433bb9a4257ddcfb11e8",
            "max": 26421880,
            "min": 0,
            "orientation": "horizontal",
            "style": "IPY_MODEL_da4d32f215604091b1c7fe9c8adb22ef",
            "value": 26421880
          }
        },
        "4b8d9e26c42a4f43968bdffd9a180396": {
          "model_module": "@jupyter-widgets/controls",
          "model_name": "HTMLModel",
          "model_module_version": "1.5.0",
          "state": {
            "_dom_classes": [],
            "_model_module": "@jupyter-widgets/controls",
            "_model_module_version": "1.5.0",
            "_model_name": "HTMLModel",
            "_view_count": null,
            "_view_module": "@jupyter-widgets/controls",
            "_view_module_version": "1.5.0",
            "_view_name": "HTMLView",
            "description": "",
            "description_tooltip": null,
            "layout": "IPY_MODEL_47865e58a93e42058e9d5dd2251c5207",
            "placeholder": "​",
            "style": "IPY_MODEL_58f8f76c984948c992e92ebd2edad85a",
            "value": " 26422272/? [00:02&lt;00:00, 15778327.61it/s]"
          }
        },
        "2173099e394e4cdfbfe9c55d57eeb302": {
          "model_module": "@jupyter-widgets/base",
          "model_name": "LayoutModel",
          "model_module_version": "1.2.0",
          "state": {
            "_model_module": "@jupyter-widgets/base",
            "_model_module_version": "1.2.0",
            "_model_name": "LayoutModel",
            "_view_count": null,
            "_view_module": "@jupyter-widgets/base",
            "_view_module_version": "1.2.0",
            "_view_name": "LayoutView",
            "align_content": null,
            "align_items": null,
            "align_self": null,
            "border": null,
            "bottom": null,
            "display": null,
            "flex": null,
            "flex_flow": null,
            "grid_area": null,
            "grid_auto_columns": null,
            "grid_auto_flow": null,
            "grid_auto_rows": null,
            "grid_column": null,
            "grid_gap": null,
            "grid_row": null,
            "grid_template_areas": null,
            "grid_template_columns": null,
            "grid_template_rows": null,
            "height": null,
            "justify_content": null,
            "justify_items": null,
            "left": null,
            "margin": null,
            "max_height": null,
            "max_width": null,
            "min_height": null,
            "min_width": null,
            "object_fit": null,
            "object_position": null,
            "order": null,
            "overflow": null,
            "overflow_x": null,
            "overflow_y": null,
            "padding": null,
            "right": null,
            "top": null,
            "visibility": null,
            "width": null
          }
        },
        "6d4273faa8934f7d9aafe339bcd2c2eb": {
          "model_module": "@jupyter-widgets/base",
          "model_name": "LayoutModel",
          "model_module_version": "1.2.0",
          "state": {
            "_model_module": "@jupyter-widgets/base",
            "_model_module_version": "1.2.0",
            "_model_name": "LayoutModel",
            "_view_count": null,
            "_view_module": "@jupyter-widgets/base",
            "_view_module_version": "1.2.0",
            "_view_name": "LayoutView",
            "align_content": null,
            "align_items": null,
            "align_self": null,
            "border": null,
            "bottom": null,
            "display": null,
            "flex": null,
            "flex_flow": null,
            "grid_area": null,
            "grid_auto_columns": null,
            "grid_auto_flow": null,
            "grid_auto_rows": null,
            "grid_column": null,
            "grid_gap": null,
            "grid_row": null,
            "grid_template_areas": null,
            "grid_template_columns": null,
            "grid_template_rows": null,
            "height": null,
            "justify_content": null,
            "justify_items": null,
            "left": null,
            "margin": null,
            "max_height": null,
            "max_width": null,
            "min_height": null,
            "min_width": null,
            "object_fit": null,
            "object_position": null,
            "order": null,
            "overflow": null,
            "overflow_x": null,
            "overflow_y": null,
            "padding": null,
            "right": null,
            "top": null,
            "visibility": null,
            "width": null
          }
        },
        "80cba733407f4156abca2d8c78c66378": {
          "model_module": "@jupyter-widgets/controls",
          "model_name": "DescriptionStyleModel",
          "model_module_version": "1.5.0",
          "state": {
            "_model_module": "@jupyter-widgets/controls",
            "_model_module_version": "1.5.0",
            "_model_name": "DescriptionStyleModel",
            "_view_count": null,
            "_view_module": "@jupyter-widgets/base",
            "_view_module_version": "1.2.0",
            "_view_name": "StyleView",
            "description_width": ""
          }
        },
        "7ba2a4c93422433bb9a4257ddcfb11e8": {
          "model_module": "@jupyter-widgets/base",
          "model_name": "LayoutModel",
          "model_module_version": "1.2.0",
          "state": {
            "_model_module": "@jupyter-widgets/base",
            "_model_module_version": "1.2.0",
            "_model_name": "LayoutModel",
            "_view_count": null,
            "_view_module": "@jupyter-widgets/base",
            "_view_module_version": "1.2.0",
            "_view_name": "LayoutView",
            "align_content": null,
            "align_items": null,
            "align_self": null,
            "border": null,
            "bottom": null,
            "display": null,
            "flex": null,
            "flex_flow": null,
            "grid_area": null,
            "grid_auto_columns": null,
            "grid_auto_flow": null,
            "grid_auto_rows": null,
            "grid_column": null,
            "grid_gap": null,
            "grid_row": null,
            "grid_template_areas": null,
            "grid_template_columns": null,
            "grid_template_rows": null,
            "height": null,
            "justify_content": null,
            "justify_items": null,
            "left": null,
            "margin": null,
            "max_height": null,
            "max_width": null,
            "min_height": null,
            "min_width": null,
            "object_fit": null,
            "object_position": null,
            "order": null,
            "overflow": null,
            "overflow_x": null,
            "overflow_y": null,
            "padding": null,
            "right": null,
            "top": null,
            "visibility": null,
            "width": null
          }
        },
        "da4d32f215604091b1c7fe9c8adb22ef": {
          "model_module": "@jupyter-widgets/controls",
          "model_name": "ProgressStyleModel",
          "model_module_version": "1.5.0",
          "state": {
            "_model_module": "@jupyter-widgets/controls",
            "_model_module_version": "1.5.0",
            "_model_name": "ProgressStyleModel",
            "_view_count": null,
            "_view_module": "@jupyter-widgets/base",
            "_view_module_version": "1.2.0",
            "_view_name": "StyleView",
            "bar_color": null,
            "description_width": ""
          }
        },
        "47865e58a93e42058e9d5dd2251c5207": {
          "model_module": "@jupyter-widgets/base",
          "model_name": "LayoutModel",
          "model_module_version": "1.2.0",
          "state": {
            "_model_module": "@jupyter-widgets/base",
            "_model_module_version": "1.2.0",
            "_model_name": "LayoutModel",
            "_view_count": null,
            "_view_module": "@jupyter-widgets/base",
            "_view_module_version": "1.2.0",
            "_view_name": "LayoutView",
            "align_content": null,
            "align_items": null,
            "align_self": null,
            "border": null,
            "bottom": null,
            "display": null,
            "flex": null,
            "flex_flow": null,
            "grid_area": null,
            "grid_auto_columns": null,
            "grid_auto_flow": null,
            "grid_auto_rows": null,
            "grid_column": null,
            "grid_gap": null,
            "grid_row": null,
            "grid_template_areas": null,
            "grid_template_columns": null,
            "grid_template_rows": null,
            "height": null,
            "justify_content": null,
            "justify_items": null,
            "left": null,
            "margin": null,
            "max_height": null,
            "max_width": null,
            "min_height": null,
            "min_width": null,
            "object_fit": null,
            "object_position": null,
            "order": null,
            "overflow": null,
            "overflow_x": null,
            "overflow_y": null,
            "padding": null,
            "right": null,
            "top": null,
            "visibility": null,
            "width": null
          }
        },
        "58f8f76c984948c992e92ebd2edad85a": {
          "model_module": "@jupyter-widgets/controls",
          "model_name": "DescriptionStyleModel",
          "model_module_version": "1.5.0",
          "state": {
            "_model_module": "@jupyter-widgets/controls",
            "_model_module_version": "1.5.0",
            "_model_name": "DescriptionStyleModel",
            "_view_count": null,
            "_view_module": "@jupyter-widgets/base",
            "_view_module_version": "1.2.0",
            "_view_name": "StyleView",
            "description_width": ""
          }
        },
        "7272fdff8379443188d722811d79b054": {
          "model_module": "@jupyter-widgets/controls",
          "model_name": "HBoxModel",
          "model_module_version": "1.5.0",
          "state": {
            "_dom_classes": [],
            "_model_module": "@jupyter-widgets/controls",
            "_model_module_version": "1.5.0",
            "_model_name": "HBoxModel",
            "_view_count": null,
            "_view_module": "@jupyter-widgets/controls",
            "_view_module_version": "1.5.0",
            "_view_name": "HBoxView",
            "box_style": "",
            "children": [
              "IPY_MODEL_bdc3b81bbb284a679bfcac68d60e96a2",
              "IPY_MODEL_8e4385ba61354053a80fe47893762d83",
              "IPY_MODEL_82492b725fa1483da0c3f8dcb6122b9a"
            ],
            "layout": "IPY_MODEL_52b8a19a0608481c88621d812590ae53"
          }
        },
        "bdc3b81bbb284a679bfcac68d60e96a2": {
          "model_module": "@jupyter-widgets/controls",
          "model_name": "HTMLModel",
          "model_module_version": "1.5.0",
          "state": {
            "_dom_classes": [],
            "_model_module": "@jupyter-widgets/controls",
            "_model_module_version": "1.5.0",
            "_model_name": "HTMLModel",
            "_view_count": null,
            "_view_module": "@jupyter-widgets/controls",
            "_view_module_version": "1.5.0",
            "_view_name": "HTMLView",
            "description": "",
            "description_tooltip": null,
            "layout": "IPY_MODEL_f2f4702dba2b4a4890729f24cbcfc222",
            "placeholder": "​",
            "style": "IPY_MODEL_bad2dc0852134bbf9d9616fb896db13b",
            "value": ""
          }
        },
        "8e4385ba61354053a80fe47893762d83": {
          "model_module": "@jupyter-widgets/controls",
          "model_name": "FloatProgressModel",
          "model_module_version": "1.5.0",
          "state": {
            "_dom_classes": [],
            "_model_module": "@jupyter-widgets/controls",
            "_model_module_version": "1.5.0",
            "_model_name": "FloatProgressModel",
            "_view_count": null,
            "_view_module": "@jupyter-widgets/controls",
            "_view_module_version": "1.5.0",
            "_view_name": "ProgressView",
            "bar_style": "success",
            "description": "",
            "description_tooltip": null,
            "layout": "IPY_MODEL_195f1a58663144ccb8fe483383550daa",
            "max": 29515,
            "min": 0,
            "orientation": "horizontal",
            "style": "IPY_MODEL_e796373aa7b94ced9d4bcfc04043eb37",
            "value": 29515
          }
        },
        "82492b725fa1483da0c3f8dcb6122b9a": {
          "model_module": "@jupyter-widgets/controls",
          "model_name": "HTMLModel",
          "model_module_version": "1.5.0",
          "state": {
            "_dom_classes": [],
            "_model_module": "@jupyter-widgets/controls",
            "_model_module_version": "1.5.0",
            "_model_name": "HTMLModel",
            "_view_count": null,
            "_view_module": "@jupyter-widgets/controls",
            "_view_module_version": "1.5.0",
            "_view_name": "HTMLView",
            "description": "",
            "description_tooltip": null,
            "layout": "IPY_MODEL_dbab88520c274148bed803c458d9eaa2",
            "placeholder": "​",
            "style": "IPY_MODEL_0d4b9a542a084240b924e793b299cafc",
            "value": " 29696/? [00:00&lt;00:00, 81460.35it/s]"
          }
        },
        "52b8a19a0608481c88621d812590ae53": {
          "model_module": "@jupyter-widgets/base",
          "model_name": "LayoutModel",
          "model_module_version": "1.2.0",
          "state": {
            "_model_module": "@jupyter-widgets/base",
            "_model_module_version": "1.2.0",
            "_model_name": "LayoutModel",
            "_view_count": null,
            "_view_module": "@jupyter-widgets/base",
            "_view_module_version": "1.2.0",
            "_view_name": "LayoutView",
            "align_content": null,
            "align_items": null,
            "align_self": null,
            "border": null,
            "bottom": null,
            "display": null,
            "flex": null,
            "flex_flow": null,
            "grid_area": null,
            "grid_auto_columns": null,
            "grid_auto_flow": null,
            "grid_auto_rows": null,
            "grid_column": null,
            "grid_gap": null,
            "grid_row": null,
            "grid_template_areas": null,
            "grid_template_columns": null,
            "grid_template_rows": null,
            "height": null,
            "justify_content": null,
            "justify_items": null,
            "left": null,
            "margin": null,
            "max_height": null,
            "max_width": null,
            "min_height": null,
            "min_width": null,
            "object_fit": null,
            "object_position": null,
            "order": null,
            "overflow": null,
            "overflow_x": null,
            "overflow_y": null,
            "padding": null,
            "right": null,
            "top": null,
            "visibility": null,
            "width": null
          }
        },
        "f2f4702dba2b4a4890729f24cbcfc222": {
          "model_module": "@jupyter-widgets/base",
          "model_name": "LayoutModel",
          "model_module_version": "1.2.0",
          "state": {
            "_model_module": "@jupyter-widgets/base",
            "_model_module_version": "1.2.0",
            "_model_name": "LayoutModel",
            "_view_count": null,
            "_view_module": "@jupyter-widgets/base",
            "_view_module_version": "1.2.0",
            "_view_name": "LayoutView",
            "align_content": null,
            "align_items": null,
            "align_self": null,
            "border": null,
            "bottom": null,
            "display": null,
            "flex": null,
            "flex_flow": null,
            "grid_area": null,
            "grid_auto_columns": null,
            "grid_auto_flow": null,
            "grid_auto_rows": null,
            "grid_column": null,
            "grid_gap": null,
            "grid_row": null,
            "grid_template_areas": null,
            "grid_template_columns": null,
            "grid_template_rows": null,
            "height": null,
            "justify_content": null,
            "justify_items": null,
            "left": null,
            "margin": null,
            "max_height": null,
            "max_width": null,
            "min_height": null,
            "min_width": null,
            "object_fit": null,
            "object_position": null,
            "order": null,
            "overflow": null,
            "overflow_x": null,
            "overflow_y": null,
            "padding": null,
            "right": null,
            "top": null,
            "visibility": null,
            "width": null
          }
        },
        "bad2dc0852134bbf9d9616fb896db13b": {
          "model_module": "@jupyter-widgets/controls",
          "model_name": "DescriptionStyleModel",
          "model_module_version": "1.5.0",
          "state": {
            "_model_module": "@jupyter-widgets/controls",
            "_model_module_version": "1.5.0",
            "_model_name": "DescriptionStyleModel",
            "_view_count": null,
            "_view_module": "@jupyter-widgets/base",
            "_view_module_version": "1.2.0",
            "_view_name": "StyleView",
            "description_width": ""
          }
        },
        "195f1a58663144ccb8fe483383550daa": {
          "model_module": "@jupyter-widgets/base",
          "model_name": "LayoutModel",
          "model_module_version": "1.2.0",
          "state": {
            "_model_module": "@jupyter-widgets/base",
            "_model_module_version": "1.2.0",
            "_model_name": "LayoutModel",
            "_view_count": null,
            "_view_module": "@jupyter-widgets/base",
            "_view_module_version": "1.2.0",
            "_view_name": "LayoutView",
            "align_content": null,
            "align_items": null,
            "align_self": null,
            "border": null,
            "bottom": null,
            "display": null,
            "flex": null,
            "flex_flow": null,
            "grid_area": null,
            "grid_auto_columns": null,
            "grid_auto_flow": null,
            "grid_auto_rows": null,
            "grid_column": null,
            "grid_gap": null,
            "grid_row": null,
            "grid_template_areas": null,
            "grid_template_columns": null,
            "grid_template_rows": null,
            "height": null,
            "justify_content": null,
            "justify_items": null,
            "left": null,
            "margin": null,
            "max_height": null,
            "max_width": null,
            "min_height": null,
            "min_width": null,
            "object_fit": null,
            "object_position": null,
            "order": null,
            "overflow": null,
            "overflow_x": null,
            "overflow_y": null,
            "padding": null,
            "right": null,
            "top": null,
            "visibility": null,
            "width": null
          }
        },
        "e796373aa7b94ced9d4bcfc04043eb37": {
          "model_module": "@jupyter-widgets/controls",
          "model_name": "ProgressStyleModel",
          "model_module_version": "1.5.0",
          "state": {
            "_model_module": "@jupyter-widgets/controls",
            "_model_module_version": "1.5.0",
            "_model_name": "ProgressStyleModel",
            "_view_count": null,
            "_view_module": "@jupyter-widgets/base",
            "_view_module_version": "1.2.0",
            "_view_name": "StyleView",
            "bar_color": null,
            "description_width": ""
          }
        },
        "dbab88520c274148bed803c458d9eaa2": {
          "model_module": "@jupyter-widgets/base",
          "model_name": "LayoutModel",
          "model_module_version": "1.2.0",
          "state": {
            "_model_module": "@jupyter-widgets/base",
            "_model_module_version": "1.2.0",
            "_model_name": "LayoutModel",
            "_view_count": null,
            "_view_module": "@jupyter-widgets/base",
            "_view_module_version": "1.2.0",
            "_view_name": "LayoutView",
            "align_content": null,
            "align_items": null,
            "align_self": null,
            "border": null,
            "bottom": null,
            "display": null,
            "flex": null,
            "flex_flow": null,
            "grid_area": null,
            "grid_auto_columns": null,
            "grid_auto_flow": null,
            "grid_auto_rows": null,
            "grid_column": null,
            "grid_gap": null,
            "grid_row": null,
            "grid_template_areas": null,
            "grid_template_columns": null,
            "grid_template_rows": null,
            "height": null,
            "justify_content": null,
            "justify_items": null,
            "left": null,
            "margin": null,
            "max_height": null,
            "max_width": null,
            "min_height": null,
            "min_width": null,
            "object_fit": null,
            "object_position": null,
            "order": null,
            "overflow": null,
            "overflow_x": null,
            "overflow_y": null,
            "padding": null,
            "right": null,
            "top": null,
            "visibility": null,
            "width": null
          }
        },
        "0d4b9a542a084240b924e793b299cafc": {
          "model_module": "@jupyter-widgets/controls",
          "model_name": "DescriptionStyleModel",
          "model_module_version": "1.5.0",
          "state": {
            "_model_module": "@jupyter-widgets/controls",
            "_model_module_version": "1.5.0",
            "_model_name": "DescriptionStyleModel",
            "_view_count": null,
            "_view_module": "@jupyter-widgets/base",
            "_view_module_version": "1.2.0",
            "_view_name": "StyleView",
            "description_width": ""
          }
        },
        "c4567795c46c4b809cb605170075d080": {
          "model_module": "@jupyter-widgets/controls",
          "model_name": "HBoxModel",
          "model_module_version": "1.5.0",
          "state": {
            "_dom_classes": [],
            "_model_module": "@jupyter-widgets/controls",
            "_model_module_version": "1.5.0",
            "_model_name": "HBoxModel",
            "_view_count": null,
            "_view_module": "@jupyter-widgets/controls",
            "_view_module_version": "1.5.0",
            "_view_name": "HBoxView",
            "box_style": "",
            "children": [
              "IPY_MODEL_bdd04a10d15545b39751de171078fa24",
              "IPY_MODEL_7b9c7f60bc954e0ea5614c505f636b7a",
              "IPY_MODEL_78b3e0b8e05f487788fe34fa655c31ce"
            ],
            "layout": "IPY_MODEL_2d04ba86a5f748f7a046069e78520d20"
          }
        },
        "bdd04a10d15545b39751de171078fa24": {
          "model_module": "@jupyter-widgets/controls",
          "model_name": "HTMLModel",
          "model_module_version": "1.5.0",
          "state": {
            "_dom_classes": [],
            "_model_module": "@jupyter-widgets/controls",
            "_model_module_version": "1.5.0",
            "_model_name": "HTMLModel",
            "_view_count": null,
            "_view_module": "@jupyter-widgets/controls",
            "_view_module_version": "1.5.0",
            "_view_name": "HTMLView",
            "description": "",
            "description_tooltip": null,
            "layout": "IPY_MODEL_a25b06807bd7416db6a1d718f4a02fa2",
            "placeholder": "​",
            "style": "IPY_MODEL_482b2c0c3bd9438faca010ae9ef75e02",
            "value": ""
          }
        },
        "7b9c7f60bc954e0ea5614c505f636b7a": {
          "model_module": "@jupyter-widgets/controls",
          "model_name": "FloatProgressModel",
          "model_module_version": "1.5.0",
          "state": {
            "_dom_classes": [],
            "_model_module": "@jupyter-widgets/controls",
            "_model_module_version": "1.5.0",
            "_model_name": "FloatProgressModel",
            "_view_count": null,
            "_view_module": "@jupyter-widgets/controls",
            "_view_module_version": "1.5.0",
            "_view_name": "ProgressView",
            "bar_style": "success",
            "description": "",
            "description_tooltip": null,
            "layout": "IPY_MODEL_8e6d019e15be476894b413a1db7ed54e",
            "max": 4422102,
            "min": 0,
            "orientation": "horizontal",
            "style": "IPY_MODEL_6fc94d1bf7834891a5f471397cb82e3d",
            "value": 4422102
          }
        },
        "78b3e0b8e05f487788fe34fa655c31ce": {
          "model_module": "@jupyter-widgets/controls",
          "model_name": "HTMLModel",
          "model_module_version": "1.5.0",
          "state": {
            "_dom_classes": [],
            "_model_module": "@jupyter-widgets/controls",
            "_model_module_version": "1.5.0",
            "_model_name": "HTMLModel",
            "_view_count": null,
            "_view_module": "@jupyter-widgets/controls",
            "_view_module_version": "1.5.0",
            "_view_name": "HTMLView",
            "description": "",
            "description_tooltip": null,
            "layout": "IPY_MODEL_4c09e0dbbf5a410b864713c1e002e1bd",
            "placeholder": "​",
            "style": "IPY_MODEL_2cf1d8aa26e24bafbb08dc0f80f30724",
            "value": " 4422656/? [00:01&lt;00:00, 6165163.43it/s]"
          }
        },
        "2d04ba86a5f748f7a046069e78520d20": {
          "model_module": "@jupyter-widgets/base",
          "model_name": "LayoutModel",
          "model_module_version": "1.2.0",
          "state": {
            "_model_module": "@jupyter-widgets/base",
            "_model_module_version": "1.2.0",
            "_model_name": "LayoutModel",
            "_view_count": null,
            "_view_module": "@jupyter-widgets/base",
            "_view_module_version": "1.2.0",
            "_view_name": "LayoutView",
            "align_content": null,
            "align_items": null,
            "align_self": null,
            "border": null,
            "bottom": null,
            "display": null,
            "flex": null,
            "flex_flow": null,
            "grid_area": null,
            "grid_auto_columns": null,
            "grid_auto_flow": null,
            "grid_auto_rows": null,
            "grid_column": null,
            "grid_gap": null,
            "grid_row": null,
            "grid_template_areas": null,
            "grid_template_columns": null,
            "grid_template_rows": null,
            "height": null,
            "justify_content": null,
            "justify_items": null,
            "left": null,
            "margin": null,
            "max_height": null,
            "max_width": null,
            "min_height": null,
            "min_width": null,
            "object_fit": null,
            "object_position": null,
            "order": null,
            "overflow": null,
            "overflow_x": null,
            "overflow_y": null,
            "padding": null,
            "right": null,
            "top": null,
            "visibility": null,
            "width": null
          }
        },
        "a25b06807bd7416db6a1d718f4a02fa2": {
          "model_module": "@jupyter-widgets/base",
          "model_name": "LayoutModel",
          "model_module_version": "1.2.0",
          "state": {
            "_model_module": "@jupyter-widgets/base",
            "_model_module_version": "1.2.0",
            "_model_name": "LayoutModel",
            "_view_count": null,
            "_view_module": "@jupyter-widgets/base",
            "_view_module_version": "1.2.0",
            "_view_name": "LayoutView",
            "align_content": null,
            "align_items": null,
            "align_self": null,
            "border": null,
            "bottom": null,
            "display": null,
            "flex": null,
            "flex_flow": null,
            "grid_area": null,
            "grid_auto_columns": null,
            "grid_auto_flow": null,
            "grid_auto_rows": null,
            "grid_column": null,
            "grid_gap": null,
            "grid_row": null,
            "grid_template_areas": null,
            "grid_template_columns": null,
            "grid_template_rows": null,
            "height": null,
            "justify_content": null,
            "justify_items": null,
            "left": null,
            "margin": null,
            "max_height": null,
            "max_width": null,
            "min_height": null,
            "min_width": null,
            "object_fit": null,
            "object_position": null,
            "order": null,
            "overflow": null,
            "overflow_x": null,
            "overflow_y": null,
            "padding": null,
            "right": null,
            "top": null,
            "visibility": null,
            "width": null
          }
        },
        "482b2c0c3bd9438faca010ae9ef75e02": {
          "model_module": "@jupyter-widgets/controls",
          "model_name": "DescriptionStyleModel",
          "model_module_version": "1.5.0",
          "state": {
            "_model_module": "@jupyter-widgets/controls",
            "_model_module_version": "1.5.0",
            "_model_name": "DescriptionStyleModel",
            "_view_count": null,
            "_view_module": "@jupyter-widgets/base",
            "_view_module_version": "1.2.0",
            "_view_name": "StyleView",
            "description_width": ""
          }
        },
        "8e6d019e15be476894b413a1db7ed54e": {
          "model_module": "@jupyter-widgets/base",
          "model_name": "LayoutModel",
          "model_module_version": "1.2.0",
          "state": {
            "_model_module": "@jupyter-widgets/base",
            "_model_module_version": "1.2.0",
            "_model_name": "LayoutModel",
            "_view_count": null,
            "_view_module": "@jupyter-widgets/base",
            "_view_module_version": "1.2.0",
            "_view_name": "LayoutView",
            "align_content": null,
            "align_items": null,
            "align_self": null,
            "border": null,
            "bottom": null,
            "display": null,
            "flex": null,
            "flex_flow": null,
            "grid_area": null,
            "grid_auto_columns": null,
            "grid_auto_flow": null,
            "grid_auto_rows": null,
            "grid_column": null,
            "grid_gap": null,
            "grid_row": null,
            "grid_template_areas": null,
            "grid_template_columns": null,
            "grid_template_rows": null,
            "height": null,
            "justify_content": null,
            "justify_items": null,
            "left": null,
            "margin": null,
            "max_height": null,
            "max_width": null,
            "min_height": null,
            "min_width": null,
            "object_fit": null,
            "object_position": null,
            "order": null,
            "overflow": null,
            "overflow_x": null,
            "overflow_y": null,
            "padding": null,
            "right": null,
            "top": null,
            "visibility": null,
            "width": null
          }
        },
        "6fc94d1bf7834891a5f471397cb82e3d": {
          "model_module": "@jupyter-widgets/controls",
          "model_name": "ProgressStyleModel",
          "model_module_version": "1.5.0",
          "state": {
            "_model_module": "@jupyter-widgets/controls",
            "_model_module_version": "1.5.0",
            "_model_name": "ProgressStyleModel",
            "_view_count": null,
            "_view_module": "@jupyter-widgets/base",
            "_view_module_version": "1.2.0",
            "_view_name": "StyleView",
            "bar_color": null,
            "description_width": ""
          }
        },
        "4c09e0dbbf5a410b864713c1e002e1bd": {
          "model_module": "@jupyter-widgets/base",
          "model_name": "LayoutModel",
          "model_module_version": "1.2.0",
          "state": {
            "_model_module": "@jupyter-widgets/base",
            "_model_module_version": "1.2.0",
            "_model_name": "LayoutModel",
            "_view_count": null,
            "_view_module": "@jupyter-widgets/base",
            "_view_module_version": "1.2.0",
            "_view_name": "LayoutView",
            "align_content": null,
            "align_items": null,
            "align_self": null,
            "border": null,
            "bottom": null,
            "display": null,
            "flex": null,
            "flex_flow": null,
            "grid_area": null,
            "grid_auto_columns": null,
            "grid_auto_flow": null,
            "grid_auto_rows": null,
            "grid_column": null,
            "grid_gap": null,
            "grid_row": null,
            "grid_template_areas": null,
            "grid_template_columns": null,
            "grid_template_rows": null,
            "height": null,
            "justify_content": null,
            "justify_items": null,
            "left": null,
            "margin": null,
            "max_height": null,
            "max_width": null,
            "min_height": null,
            "min_width": null,
            "object_fit": null,
            "object_position": null,
            "order": null,
            "overflow": null,
            "overflow_x": null,
            "overflow_y": null,
            "padding": null,
            "right": null,
            "top": null,
            "visibility": null,
            "width": null
          }
        },
        "2cf1d8aa26e24bafbb08dc0f80f30724": {
          "model_module": "@jupyter-widgets/controls",
          "model_name": "DescriptionStyleModel",
          "model_module_version": "1.5.0",
          "state": {
            "_model_module": "@jupyter-widgets/controls",
            "_model_module_version": "1.5.0",
            "_model_name": "DescriptionStyleModel",
            "_view_count": null,
            "_view_module": "@jupyter-widgets/base",
            "_view_module_version": "1.2.0",
            "_view_name": "StyleView",
            "description_width": ""
          }
        },
        "01276bfcd05c444c9c0849624283bf1e": {
          "model_module": "@jupyter-widgets/controls",
          "model_name": "HBoxModel",
          "model_module_version": "1.5.0",
          "state": {
            "_dom_classes": [],
            "_model_module": "@jupyter-widgets/controls",
            "_model_module_version": "1.5.0",
            "_model_name": "HBoxModel",
            "_view_count": null,
            "_view_module": "@jupyter-widgets/controls",
            "_view_module_version": "1.5.0",
            "_view_name": "HBoxView",
            "box_style": "",
            "children": [
              "IPY_MODEL_2c6287cae395406b9038539355c25b72",
              "IPY_MODEL_93a5c00886324ebeab283bb998027103",
              "IPY_MODEL_a7d405bdf8754be0bd1729f77ab55119"
            ],
            "layout": "IPY_MODEL_b8a3e7d21e514409b87e4a61a2051dd8"
          }
        },
        "2c6287cae395406b9038539355c25b72": {
          "model_module": "@jupyter-widgets/controls",
          "model_name": "HTMLModel",
          "model_module_version": "1.5.0",
          "state": {
            "_dom_classes": [],
            "_model_module": "@jupyter-widgets/controls",
            "_model_module_version": "1.5.0",
            "_model_name": "HTMLModel",
            "_view_count": null,
            "_view_module": "@jupyter-widgets/controls",
            "_view_module_version": "1.5.0",
            "_view_name": "HTMLView",
            "description": "",
            "description_tooltip": null,
            "layout": "IPY_MODEL_ce45c595206444639997bad1607544dc",
            "placeholder": "​",
            "style": "IPY_MODEL_d819960f9f9b45f3a5a2829b39024bc8",
            "value": ""
          }
        },
        "93a5c00886324ebeab283bb998027103": {
          "model_module": "@jupyter-widgets/controls",
          "model_name": "FloatProgressModel",
          "model_module_version": "1.5.0",
          "state": {
            "_dom_classes": [],
            "_model_module": "@jupyter-widgets/controls",
            "_model_module_version": "1.5.0",
            "_model_name": "FloatProgressModel",
            "_view_count": null,
            "_view_module": "@jupyter-widgets/controls",
            "_view_module_version": "1.5.0",
            "_view_name": "ProgressView",
            "bar_style": "success",
            "description": "",
            "description_tooltip": null,
            "layout": "IPY_MODEL_60010c272da343c4ba7cac6a4d61a12e",
            "max": 5148,
            "min": 0,
            "orientation": "horizontal",
            "style": "IPY_MODEL_325e2d6e1f2f4dbd892ba7c31d8ac121",
            "value": 5148
          }
        },
        "a7d405bdf8754be0bd1729f77ab55119": {
          "model_module": "@jupyter-widgets/controls",
          "model_name": "HTMLModel",
          "model_module_version": "1.5.0",
          "state": {
            "_dom_classes": [],
            "_model_module": "@jupyter-widgets/controls",
            "_model_module_version": "1.5.0",
            "_model_name": "HTMLModel",
            "_view_count": null,
            "_view_module": "@jupyter-widgets/controls",
            "_view_module_version": "1.5.0",
            "_view_name": "HTMLView",
            "description": "",
            "description_tooltip": null,
            "layout": "IPY_MODEL_9681eb8b7c224b598ea95496d36a91a4",
            "placeholder": "​",
            "style": "IPY_MODEL_dca72e7a4bf34baebb3ef5f51274ee7a",
            "value": " 6144/? [00:00&lt;00:00, 119715.34it/s]"
          }
        },
        "b8a3e7d21e514409b87e4a61a2051dd8": {
          "model_module": "@jupyter-widgets/base",
          "model_name": "LayoutModel",
          "model_module_version": "1.2.0",
          "state": {
            "_model_module": "@jupyter-widgets/base",
            "_model_module_version": "1.2.0",
            "_model_name": "LayoutModel",
            "_view_count": null,
            "_view_module": "@jupyter-widgets/base",
            "_view_module_version": "1.2.0",
            "_view_name": "LayoutView",
            "align_content": null,
            "align_items": null,
            "align_self": null,
            "border": null,
            "bottom": null,
            "display": null,
            "flex": null,
            "flex_flow": null,
            "grid_area": null,
            "grid_auto_columns": null,
            "grid_auto_flow": null,
            "grid_auto_rows": null,
            "grid_column": null,
            "grid_gap": null,
            "grid_row": null,
            "grid_template_areas": null,
            "grid_template_columns": null,
            "grid_template_rows": null,
            "height": null,
            "justify_content": null,
            "justify_items": null,
            "left": null,
            "margin": null,
            "max_height": null,
            "max_width": null,
            "min_height": null,
            "min_width": null,
            "object_fit": null,
            "object_position": null,
            "order": null,
            "overflow": null,
            "overflow_x": null,
            "overflow_y": null,
            "padding": null,
            "right": null,
            "top": null,
            "visibility": null,
            "width": null
          }
        },
        "ce45c595206444639997bad1607544dc": {
          "model_module": "@jupyter-widgets/base",
          "model_name": "LayoutModel",
          "model_module_version": "1.2.0",
          "state": {
            "_model_module": "@jupyter-widgets/base",
            "_model_module_version": "1.2.0",
            "_model_name": "LayoutModel",
            "_view_count": null,
            "_view_module": "@jupyter-widgets/base",
            "_view_module_version": "1.2.0",
            "_view_name": "LayoutView",
            "align_content": null,
            "align_items": null,
            "align_self": null,
            "border": null,
            "bottom": null,
            "display": null,
            "flex": null,
            "flex_flow": null,
            "grid_area": null,
            "grid_auto_columns": null,
            "grid_auto_flow": null,
            "grid_auto_rows": null,
            "grid_column": null,
            "grid_gap": null,
            "grid_row": null,
            "grid_template_areas": null,
            "grid_template_columns": null,
            "grid_template_rows": null,
            "height": null,
            "justify_content": null,
            "justify_items": null,
            "left": null,
            "margin": null,
            "max_height": null,
            "max_width": null,
            "min_height": null,
            "min_width": null,
            "object_fit": null,
            "object_position": null,
            "order": null,
            "overflow": null,
            "overflow_x": null,
            "overflow_y": null,
            "padding": null,
            "right": null,
            "top": null,
            "visibility": null,
            "width": null
          }
        },
        "d819960f9f9b45f3a5a2829b39024bc8": {
          "model_module": "@jupyter-widgets/controls",
          "model_name": "DescriptionStyleModel",
          "model_module_version": "1.5.0",
          "state": {
            "_model_module": "@jupyter-widgets/controls",
            "_model_module_version": "1.5.0",
            "_model_name": "DescriptionStyleModel",
            "_view_count": null,
            "_view_module": "@jupyter-widgets/base",
            "_view_module_version": "1.2.0",
            "_view_name": "StyleView",
            "description_width": ""
          }
        },
        "60010c272da343c4ba7cac6a4d61a12e": {
          "model_module": "@jupyter-widgets/base",
          "model_name": "LayoutModel",
          "model_module_version": "1.2.0",
          "state": {
            "_model_module": "@jupyter-widgets/base",
            "_model_module_version": "1.2.0",
            "_model_name": "LayoutModel",
            "_view_count": null,
            "_view_module": "@jupyter-widgets/base",
            "_view_module_version": "1.2.0",
            "_view_name": "LayoutView",
            "align_content": null,
            "align_items": null,
            "align_self": null,
            "border": null,
            "bottom": null,
            "display": null,
            "flex": null,
            "flex_flow": null,
            "grid_area": null,
            "grid_auto_columns": null,
            "grid_auto_flow": null,
            "grid_auto_rows": null,
            "grid_column": null,
            "grid_gap": null,
            "grid_row": null,
            "grid_template_areas": null,
            "grid_template_columns": null,
            "grid_template_rows": null,
            "height": null,
            "justify_content": null,
            "justify_items": null,
            "left": null,
            "margin": null,
            "max_height": null,
            "max_width": null,
            "min_height": null,
            "min_width": null,
            "object_fit": null,
            "object_position": null,
            "order": null,
            "overflow": null,
            "overflow_x": null,
            "overflow_y": null,
            "padding": null,
            "right": null,
            "top": null,
            "visibility": null,
            "width": null
          }
        },
        "325e2d6e1f2f4dbd892ba7c31d8ac121": {
          "model_module": "@jupyter-widgets/controls",
          "model_name": "ProgressStyleModel",
          "model_module_version": "1.5.0",
          "state": {
            "_model_module": "@jupyter-widgets/controls",
            "_model_module_version": "1.5.0",
            "_model_name": "ProgressStyleModel",
            "_view_count": null,
            "_view_module": "@jupyter-widgets/base",
            "_view_module_version": "1.2.0",
            "_view_name": "StyleView",
            "bar_color": null,
            "description_width": ""
          }
        },
        "9681eb8b7c224b598ea95496d36a91a4": {
          "model_module": "@jupyter-widgets/base",
          "model_name": "LayoutModel",
          "model_module_version": "1.2.0",
          "state": {
            "_model_module": "@jupyter-widgets/base",
            "_model_module_version": "1.2.0",
            "_model_name": "LayoutModel",
            "_view_count": null,
            "_view_module": "@jupyter-widgets/base",
            "_view_module_version": "1.2.0",
            "_view_name": "LayoutView",
            "align_content": null,
            "align_items": null,
            "align_self": null,
            "border": null,
            "bottom": null,
            "display": null,
            "flex": null,
            "flex_flow": null,
            "grid_area": null,
            "grid_auto_columns": null,
            "grid_auto_flow": null,
            "grid_auto_rows": null,
            "grid_column": null,
            "grid_gap": null,
            "grid_row": null,
            "grid_template_areas": null,
            "grid_template_columns": null,
            "grid_template_rows": null,
            "height": null,
            "justify_content": null,
            "justify_items": null,
            "left": null,
            "margin": null,
            "max_height": null,
            "max_width": null,
            "min_height": null,
            "min_width": null,
            "object_fit": null,
            "object_position": null,
            "order": null,
            "overflow": null,
            "overflow_x": null,
            "overflow_y": null,
            "padding": null,
            "right": null,
            "top": null,
            "visibility": null,
            "width": null
          }
        },
        "dca72e7a4bf34baebb3ef5f51274ee7a": {
          "model_module": "@jupyter-widgets/controls",
          "model_name": "DescriptionStyleModel",
          "model_module_version": "1.5.0",
          "state": {
            "_model_module": "@jupyter-widgets/controls",
            "_model_module_version": "1.5.0",
            "_model_name": "DescriptionStyleModel",
            "_view_count": null,
            "_view_module": "@jupyter-widgets/base",
            "_view_module_version": "1.2.0",
            "_view_name": "StyleView",
            "description_width": ""
          }
        }
      }
    },
    "gpuClass": "standard"
  },
  "nbformat": 4,
  "nbformat_minor": 0
}